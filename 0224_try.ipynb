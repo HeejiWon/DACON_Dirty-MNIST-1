{
  "nbformat": 4,
  "nbformat_minor": 0,
  "metadata": {
    "colab": {
      "name": "0224_try",
      "provenance": [],
      "collapsed_sections": [],
      "machine_shape": "hm",
      "authorship_tag": "ABX9TyNXd8nnJrL6e5c20zgLBDbz",
      "include_colab_link": true
    },
    "kernelspec": {
      "name": "python3",
      "display_name": "Python 3"
    },
    "accelerator": "GPU"
  },
  "cells": [
    {
      "cell_type": "markdown",
      "metadata": {
        "id": "view-in-github",
        "colab_type": "text"
      },
      "source": [
        "<a href=\"https://colab.research.google.com/github/changdaeoh/DACON_Dirty-MNIST/blob/main/0224_try.ipynb\" target=\"_parent\"><img src=\"https://colab.research.google.com/assets/colab-badge.svg\" alt=\"Open In Colab\"/></a>"
      ]
    },
    {
      "cell_type": "code",
      "metadata": {
        "colab": {
          "base_uri": "https://localhost:8080/"
        },
        "id": "vMeiEJ8nuZKs",
        "outputId": "69fbd52c-1c5c-4cfa-9036-56aa190596bd"
      },
      "source": [
        "# 구글드라이브와 연동\r\n",
        "from google.colab import drive\r\n",
        "drive.mount('/content/drive')"
      ],
      "execution_count": null,
      "outputs": [
        {
          "output_type": "stream",
          "text": [
            "Mounted at /content/drive\n"
          ],
          "name": "stdout"
        }
      ]
    },
    {
      "cell_type": "code",
      "metadata": {
        "colab": {
          "base_uri": "https://localhost:8080/"
        },
        "id": "D4OaoaF5ufoh",
        "outputId": "18478351-d53c-4863-bb32-4942e5e38b93"
      },
      "source": [
        "# common modules\r\n",
        "import tensorflow as tf\r\n",
        "from tensorflow import  keras\r\n",
        "\r\n",
        "import numpy as np\r\n",
        "import pandas as pd \r\n",
        "import random\r\n",
        "\r\n",
        "from tensorflow.keras.preprocessing.image import ImageDataGenerator\r\n",
        "\r\n",
        "import os\r\n",
        "os.chdir('/content/drive/MyDrive/project_dataset/dacon_v2')\r\n",
        "\r\n",
        "# 데이터 경로\r\n",
        "train_dir = \"/content/drive/MyDrive/project_dataset/dacon_v2/dirty_mnist_2nd\"\r\n",
        "test_dir = \"/content/drive/MyDrive/project_dataset/dacon_v2/test_route\"\r\n",
        "\r\n",
        "# GPU 확인\r\n",
        "device_name = tf.test.gpu_device_name()\r\n",
        "if device_name != '/device:GPU:0':\r\n",
        "    raise SystemError('GPU device not found')\r\n",
        "print('Found GPU at: {}'.format(device_name))\r\n",
        "\r\n",
        "SEED = 224\r\n",
        "# global seed 고정\r\n",
        "def seed_everything(seed = 42):\r\n",
        "    random.seed(seed)\r\n",
        "    np.random.seed(seed)\r\n",
        "    os.environ[\"PYTHONHASHSEED\"] = str(seed)\r\n",
        "    tf.random.set_seed(seed)\r\n",
        "\r\n",
        "seed_everything(SEED)"
      ],
      "execution_count": null,
      "outputs": [
        {
          "output_type": "stream",
          "text": [
            "Found GPU at: /device:GPU:0\n"
          ],
          "name": "stdout"
        }
      ]
    },
    {
      "cell_type": "markdown",
      "metadata": {
        "id": "nyqbOpN_xQG7"
      },
      "source": [
        "## 1. 이전에 학습시킨 inception Resnet Dropout 성능 테스트해보기"
      ]
    },
    {
      "cell_type": "markdown",
      "metadata": {
        "id": "FBN4QpsPuxuU"
      },
      "source": [
        "# test data generate (augument / origin)"
      ]
    },
    {
      "cell_type": "code",
      "metadata": {
        "colab": {
          "base_uri": "https://localhost:8080/"
        },
        "id": "Z3uGn5oHuqZR",
        "outputId": "7787f200-e5a4-4b28-d96c-024f4a365b36"
      },
      "source": [
        "test_sub = pd.read_csv('sample_submission.csv')\r\n",
        "test_df = test_sub.copy()\r\n",
        "test_df['index'] = test_sub['index'].apply(lambda x: str(\"{0:05d}\".format(x))+'.png')\r\n",
        "\r\n",
        "\r\n",
        "\r\n",
        "\r\n",
        "\r\n",
        "datagen = ImageDataGenerator(rescale=1./255.,\r\n",
        "                             rotation_range = 10,\r\n",
        "                             width_shift_range = 0.2,\r\n",
        "                             height_shift_range = 0.2,\r\n",
        "                             horizontal_flip = True,\r\n",
        "                             vertical_flip = True,\r\n",
        "                             validation_split = 0.1)\r\n",
        "\r\n",
        "test_gen = ImageDataGenerator(rescale=1./255.)\r\n",
        "\r\n",
        "\r\n",
        "\r\n",
        "test_gen = test_gen.flow_from_dataframe(dataframe = test_df,        \r\n",
        "                                        directory='./test_route/test_dirty_mnist_2nd',       \r\n",
        "                                        x_col='index',                             \r\n",
        "                                        batch_size = 32,               \r\n",
        "                                        shuffle = False,\r\n",
        "                                        color_mode = \"rgb\",           \r\n",
        "                                        class_mode = None,\r\n",
        "                                        target_size=(256, 256))       \r\n",
        "\r\n",
        "test_gen_ag = datagen.flow_from_dataframe(dataframe = test_df,        \r\n",
        "                                        directory='./test_route/test_dirty_mnist_2nd',     \r\n",
        "                                        x_col='index',                             \r\n",
        "                                        batch_size = 32,               \r\n",
        "                                        shuffle = False,\r\n",
        "                                        color_mode = \"rgb\",           \r\n",
        "                                        class_mode = None,\r\n",
        "                                        target_size=(256, 256))       "
      ],
      "execution_count": null,
      "outputs": [
        {
          "output_type": "stream",
          "text": [
            "Found 5000 validated image filenames.\n",
            "Found 5000 validated image filenames.\n"
          ],
          "name": "stdout"
        }
      ]
    },
    {
      "cell_type": "code",
      "metadata": {
        "colab": {
          "base_uri": "https://localhost:8080/"
        },
        "id": "BsMxaEg-u6Ad",
        "outputId": "404c7d69-dd67-4e23-9d24-f0d9dcf7a98f"
      },
      "source": [
        "model = keras.models.load_model(\"./model/incepRes_dropout_decay.h5\")\r\n",
        "model.summary()"
      ],
      "execution_count": null,
      "outputs": [
        {
          "output_type": "stream",
          "text": [
            "Model: \"sequential_2\"\n",
            "_________________________________________________________________\n",
            "Layer (type)                 Output Shape              Param #   \n",
            "=================================================================\n",
            "inception_resnet_v2 (Functio (None, 6, 6, 1536)        54336736  \n",
            "_________________________________________________________________\n",
            "global_average_pooling2d_2 ( (None, 1536)              0         \n",
            "_________________________________________________________________\n",
            "dropout_6 (Dropout)          (None, 1536)              0         \n",
            "_________________________________________________________________\n",
            "dense_8 (Dense)              (None, 1024)              1573888   \n",
            "_________________________________________________________________\n",
            "dropout_7 (Dropout)          (None, 1024)              0         \n",
            "_________________________________________________________________\n",
            "dense_9 (Dense)              (None, 512)               524800    \n",
            "_________________________________________________________________\n",
            "dropout_8 (Dropout)          (None, 512)               0         \n",
            "_________________________________________________________________\n",
            "dense_10 (Dense)             (None, 256)               131328    \n",
            "_________________________________________________________________\n",
            "dense_11 (Dense)             (None, 26)                6682      \n",
            "=================================================================\n",
            "Total params: 56,573,434\n",
            "Trainable params: 56,512,890\n",
            "Non-trainable params: 60,544\n",
            "_________________________________________________________________\n"
          ],
          "name": "stdout"
        }
      ]
    },
    {
      "cell_type": "markdown",
      "metadata": {
        "id": "bH8hv-SpvMkL"
      },
      "source": [
        "# TTA"
      ]
    },
    {
      "cell_type": "code",
      "metadata": {
        "id": "yyfkojdkvEM-"
      },
      "source": [
        "batch_size = 32\r\n",
        "tta_steps = 5\r\n",
        "predictions = []\r\n",
        "columns = list(test_df.columns[1:])\r\n",
        "filename = \"incepres_dropout_0223_TTA.csv\"\r\n",
        "\r\n",
        "for i in range(tta_steps):\r\n",
        "\r\n",
        "    preds = model.predict_generator(generator = test_gen_ag,\r\n",
        "                                    steps = 5000//batch_size)\r\n",
        "    predictions.append(preds)\r\n",
        "\r\n",
        "# 평균을 통한 final prediction\r\n",
        "pred = np.mean(predictions, axis=0)\r\n",
        "pred_sub = pred.copy()\r\n",
        "\r\n",
        "# get label\r\n",
        "pred_sub = pred_sub.round()\r\n",
        "\r\n",
        "# create DF\r\n",
        "res = pd.DataFrame(pred_sub, columns = columns )\r\n",
        "int_rest = res.astype(int)"
      ],
      "execution_count": null,
      "outputs": []
    },
    {
      "cell_type": "code",
      "metadata": {
        "id": "CtmkdW-S2vkW"
      },
      "source": [
        "submit = pd.concat([test_sub.iloc[:,0],int_rest], axis = 1)\r\n",
        "\r\n",
        "submit.to_csv(filename, index = False)"
      ],
      "execution_count": null,
      "outputs": []
    },
    {
      "cell_type": "code",
      "metadata": {
        "colab": {
          "base_uri": "https://localhost:8080/"
        },
        "id": "WS9LxdxYwzBM",
        "outputId": "741423b2-b068-4491-fae3-5a121c53221c"
      },
      "source": [
        "# 모델 학습률 확인하기 \r\n",
        "import keras.backend as K\r\n",
        "\r\n",
        "print(K.eval(model.optimizer.lr))"
      ],
      "execution_count": null,
      "outputs": [
        {
          "output_type": "stream",
          "text": [
            "0.00025\n"
          ],
          "name": "stdout"
        }
      ]
    },
    {
      "cell_type": "markdown",
      "metadata": {
        "id": "mXEvcXFVzi6_"
      },
      "source": [
        "# 2. Try New strategy\r\n",
        "* new model (inception resnet based)\r\n",
        "  * use DO, BN both ? \r\n",
        "  * Very simple model ? (clf head의 표현력을 제한. 아래 CNN단이 더 많은것을 representation하게끔)\r\n",
        "  * change activation\r\n",
        "  * change LR scheduler (성능기반, 지수기반, 1-cycle)\r\n",
        "* test time improvement (TTA & MC Dropout)\r\n",
        "\r\n",
        "<br/>\r\n",
        "해결과제 \r\n",
        "\r\n",
        "* overfitting 해결\r\n",
        "* 수렴속도 개선\r\n",
        "* 한글 노이즈를 제껴버릴 수 있는 방법"
      ]
    },
    {
      "cell_type": "markdown",
      "metadata": {
        "id": "8OkTHzT65g9E"
      },
      "source": [
        "## 2.1 data preparing\r\n"
      ]
    },
    {
      "cell_type": "code",
      "metadata": {
        "colab": {
          "base_uri": "https://localhost:8080/"
        },
        "id": "axOVImfF5gRU",
        "outputId": "28e947b7-01e9-4e26-9cc0-3b4bfe1bdfde"
      },
      "source": [
        "meta_df = pd.read_csv('dirty_mnist_2nd_answer.csv')\r\n",
        "meta_df['index'] = meta_df['index'].apply(lambda x: str(\"{0:05d}\".format(x))+'.png')\r\n",
        "columns = list(meta_df.columns[1:])\r\n",
        "\r\n",
        "\r\n",
        "datagen = ImageDataGenerator(rescale=1./255.,\r\n",
        "                             rotation_range = 10,\r\n",
        "                             width_shift_range = 0.1,\r\n",
        "                             height_shift_range = 0.1,\r\n",
        "                             horizontal_flip = True,\r\n",
        "                             vertical_flip = True,\r\n",
        "                             validation_split = 0.1)\r\n",
        "\r\n",
        "# generator\r\n",
        "train_gen = datagen.flow_from_dataframe(dataframe = meta_df,        \r\n",
        "                                        directory = train_dir,       \r\n",
        "                                        x_col='index',               \r\n",
        "                                        y_col=columns,                \r\n",
        "                                        batch_size = 32,               \r\n",
        "                                        seed = SEED,\r\n",
        "                                        color_mode = \"rgb\",           \r\n",
        "                                        class_mode='raw',\r\n",
        "                                        target_size=(256, 256),       \r\n",
        "                                        subset='training')\r\n",
        "\r\n",
        "valid_gen = datagen.flow_from_dataframe(dataframe = meta_df,        \r\n",
        "                                        directory = train_dir,       \r\n",
        "                                        x_col='index',               \r\n",
        "                                        y_col=columns,                \r\n",
        "                                        batch_size = 32,               \r\n",
        "                                        seed = SEED,\r\n",
        "                                        color_mode = \"rgb\",           \r\n",
        "                                        class_mode='raw',\r\n",
        "                                        target_size=(256, 256),       \r\n",
        "                                        subset='validation')"
      ],
      "execution_count": null,
      "outputs": [
        {
          "output_type": "stream",
          "text": [
            "Found 45000 validated image filenames.\n",
            "Found 5000 validated image filenames.\n"
          ],
          "name": "stdout"
        }
      ]
    },
    {
      "cell_type": "markdown",
      "metadata": {
        "id": "OfNeYCwf-zxH"
      },
      "source": [
        "## 2.2 model build"
      ]
    },
    {
      "cell_type": "code",
      "metadata": {
        "id": "3wLWlYjq6mBz"
      },
      "source": [
        "base_model = tf.keras.applications.InceptionResNetV2(\r\n",
        "    include_top = False,\r\n",
        "    weights = None,\r\n",
        "    input_shape = (256, 256, 3)\r\n",
        ")"
      ],
      "execution_count": null,
      "outputs": []
    },
    {
      "cell_type": "code",
      "metadata": {
        "id": "y0cToaAQEpu9"
      },
      "source": [
        "model = keras.models.Sequential()\r\n",
        "\r\n",
        "model.add(base_model)\r\n",
        "model.add(keras.layers.GlobalAveragePooling2D())\r\n",
        "model.add(keras.layers.Dense(1536, activation='sigmoid'))\r\n",
        "model.add(keras.layers.Dense(26, activation='sigmoid'))\r\n",
        "\r\n",
        "BAcc = keras.metrics.BinaryAccuracy(name='binary_accuracy')\r\n",
        "optimizer = keras.optimizers.Nadam(learning_rate=0.001, beta_1=0.9, beta_2=0.999, epsilon=1e-07)\r\n",
        "\r\n",
        "model.compile(optimizer = optimizer, loss = \"binary_crossentropy\", metrics = [BAcc])"
      ],
      "execution_count": null,
      "outputs": []
    },
    {
      "cell_type": "code",
      "metadata": {
        "id": "KcUijg5CC_aH"
      },
      "source": [
        "def scheduler(epoch, lr):\r\n",
        "    # lr = 0.96 * lr for every 4 epochs\r\n",
        "    if not epoch:\r\n",
        "        return lr\r\n",
        "    elif not (epoch % 4):\r\n",
        "        return 0.96 * lr\r\n",
        "    else:\r\n",
        "        return lr"
      ],
      "execution_count": null,
      "outputs": []
    },
    {
      "cell_type": "markdown",
      "metadata": {
        "id": "8Aqru9DK-5wp"
      },
      "source": [
        "## 2.3 fitting"
      ]
    },
    {
      "cell_type": "code",
      "metadata": {
        "colab": {
          "base_uri": "https://localhost:8080/"
        },
        "id": "HLvb66CO5tNi",
        "outputId": "ba07b751-3521-46cd-e18d-7bb107fca337"
      },
      "source": [
        "# callbacks\r\n",
        "checkpoint = keras.callbacks.ModelCheckpoint('./model/incepres_vanilla.h5', \r\n",
        "                                             save_best_only=True, verbose=1,\r\n",
        "                                             mode = \"min\",monitor = \"val_loss\")\r\n",
        "early_stop_cb = keras.callbacks.EarlyStopping(patience = 10, restore_best_weights = True,\r\n",
        "                                              mode = \"min\",monitor = \"val_loss\")\r\n",
        "lr_callback = tf.keras.callbacks.LearningRateScheduler(scheduler)\r\n",
        "\r\n",
        "\r\n",
        "# fitting\r\n",
        "history = model.fit(train_gen, epochs = 50, \r\n",
        "                       validation_data = valid_gen, \r\n",
        "                       callbacks = [checkpoint, early_stop_cb, lr_callback])"
      ],
      "execution_count": null,
      "outputs": [
        {
          "output_type": "stream",
          "text": [
            "Epoch 1/50\n",
            "1407/1407 [==============================] - 13904s 10s/step - loss: 0.6991 - binary_accuracy: 0.5272 - val_loss: 0.7058 - val_binary_accuracy: 0.5077\n",
            "\n",
            "Epoch 00001: val_loss improved from inf to 0.70577, saving model to ./model/incepres_vanilla.h5\n",
            "Epoch 2/50\n",
            "1407/1407 [==============================] - 727s 516ms/step - loss: 0.6799 - binary_accuracy: 0.5606 - val_loss: 0.6816 - val_binary_accuracy: 0.5570\n",
            "\n",
            "Epoch 00002: val_loss improved from 0.70577 to 0.68157, saving model to ./model/incepres_vanilla.h5\n",
            "Epoch 3/50\n",
            "1407/1407 [==============================] - 726s 516ms/step - loss: 0.6706 - binary_accuracy: 0.5779 - val_loss: 0.6770 - val_binary_accuracy: 0.5667\n",
            "\n",
            "Epoch 00003: val_loss improved from 0.68157 to 0.67704, saving model to ./model/incepres_vanilla.h5\n",
            "Epoch 4/50\n",
            "1407/1407 [==============================] - 728s 517ms/step - loss: 0.6623 - binary_accuracy: 0.5917 - val_loss: 0.6576 - val_binary_accuracy: 0.6023\n",
            "\n",
            "Epoch 00004: val_loss improved from 0.67704 to 0.65757, saving model to ./model/incepres_vanilla.h5\n",
            "Epoch 5/50\n",
            "1407/1407 [==============================] - 726s 516ms/step - loss: 0.6519 - binary_accuracy: 0.6076 - val_loss: 0.6562 - val_binary_accuracy: 0.6043\n",
            "\n",
            "Epoch 00005: val_loss improved from 0.65757 to 0.65622, saving model to ./model/incepres_vanilla.h5\n",
            "Epoch 6/50\n",
            "1407/1407 [==============================] - 728s 517ms/step - loss: 0.6369 - binary_accuracy: 0.6253 - val_loss: 0.6349 - val_binary_accuracy: 0.6261\n",
            "\n",
            "Epoch 00006: val_loss improved from 0.65622 to 0.63486, saving model to ./model/incepres_vanilla.h5\n",
            "Epoch 7/50\n",
            "1407/1407 [==============================] - 725s 515ms/step - loss: 0.6229 - binary_accuracy: 0.6400 - val_loss: 0.6190 - val_binary_accuracy: 0.6428\n",
            "\n",
            "Epoch 00007: val_loss improved from 0.63486 to 0.61902, saving model to ./model/incepres_vanilla.h5\n",
            "Epoch 8/50\n",
            "1407/1407 [==============================] - 726s 515ms/step - loss: 0.6094 - binary_accuracy: 0.6554 - val_loss: 0.6156 - val_binary_accuracy: 0.6485\n",
            "\n",
            "Epoch 00008: val_loss improved from 0.61902 to 0.61562, saving model to ./model/incepres_vanilla.h5\n",
            "Epoch 9/50\n",
            "1407/1407 [==============================] - 727s 516ms/step - loss: 0.5955 - binary_accuracy: 0.6709 - val_loss: 0.5964 - val_binary_accuracy: 0.6705\n",
            "\n",
            "Epoch 00009: val_loss improved from 0.61562 to 0.59644, saving model to ./model/incepres_vanilla.h5\n",
            "Epoch 10/50\n",
            "1407/1407 [==============================] - 727s 516ms/step - loss: 0.5805 - binary_accuracy: 0.6848 - val_loss: 0.5772 - val_binary_accuracy: 0.6903\n",
            "\n",
            "Epoch 00010: val_loss improved from 0.59644 to 0.57722, saving model to ./model/incepres_vanilla.h5\n",
            "Epoch 11/50\n",
            "1407/1407 [==============================] - 726s 515ms/step - loss: 0.5661 - binary_accuracy: 0.7004 - val_loss: 0.5635 - val_binary_accuracy: 0.7050\n",
            "\n",
            "Epoch 00011: val_loss improved from 0.57722 to 0.56346, saving model to ./model/incepres_vanilla.h5\n",
            "Epoch 12/50\n",
            "1407/1407 [==============================] - 726s 515ms/step - loss: 0.5464 - binary_accuracy: 0.7190 - val_loss: 0.5392 - val_binary_accuracy: 0.7276\n",
            "\n",
            "Epoch 00012: val_loss improved from 0.56346 to 0.53924, saving model to ./model/incepres_vanilla.h5\n",
            "Epoch 13/50\n",
            "1407/1407 [==============================] - 726s 515ms/step - loss: 0.5276 - binary_accuracy: 0.7348 - val_loss: 0.5222 - val_binary_accuracy: 0.7395\n",
            "\n",
            "Epoch 00013: val_loss improved from 0.53924 to 0.52218, saving model to ./model/incepres_vanilla.h5\n",
            "Epoch 14/50\n",
            "1407/1407 [==============================] - 725s 515ms/step - loss: 0.5099 - binary_accuracy: 0.7482 - val_loss: 0.5136 - val_binary_accuracy: 0.7476\n",
            "\n",
            "Epoch 00014: val_loss improved from 0.52218 to 0.51359, saving model to ./model/incepres_vanilla.h5\n",
            "Epoch 15/50\n",
            "1407/1407 [==============================] - 726s 516ms/step - loss: 0.4956 - binary_accuracy: 0.7583 - val_loss: 0.5095 - val_binary_accuracy: 0.7500\n",
            "\n",
            "Epoch 00015: val_loss improved from 0.51359 to 0.50945, saving model to ./model/incepres_vanilla.h5\n",
            "Epoch 16/50\n",
            "1407/1407 [==============================] - 726s 515ms/step - loss: 0.4841 - binary_accuracy: 0.7675 - val_loss: 0.4851 - val_binary_accuracy: 0.7662\n",
            "\n",
            "Epoch 00016: val_loss improved from 0.50945 to 0.48506, saving model to ./model/incepres_vanilla.h5\n",
            "Epoch 17/50\n",
            "1407/1407 [==============================] - 727s 516ms/step - loss: 0.4698 - binary_accuracy: 0.7774 - val_loss: 0.4765 - val_binary_accuracy: 0.7730\n",
            "\n",
            "Epoch 00017: val_loss improved from 0.48506 to 0.47646, saving model to ./model/incepres_vanilla.h5\n",
            "Epoch 18/50\n",
            "1407/1407 [==============================] - 725s 515ms/step - loss: 0.4596 - binary_accuracy: 0.7831 - val_loss: 0.4669 - val_binary_accuracy: 0.7795\n",
            "\n",
            "Epoch 00018: val_loss improved from 0.47646 to 0.46686, saving model to ./model/incepres_vanilla.h5\n",
            "Epoch 19/50\n",
            "1407/1407 [==============================] - 727s 517ms/step - loss: 0.4503 - binary_accuracy: 0.7895 - val_loss: 0.4687 - val_binary_accuracy: 0.7791\n",
            "\n",
            "Epoch 00019: val_loss did not improve from 0.46686\n",
            "Epoch 20/50\n",
            "1407/1407 [==============================] - 725s 515ms/step - loss: 0.4405 - binary_accuracy: 0.7952 - val_loss: 0.4561 - val_binary_accuracy: 0.7884\n",
            "\n",
            "Epoch 00020: val_loss improved from 0.46686 to 0.45608, saving model to ./model/incepres_vanilla.h5\n",
            "Epoch 21/50\n",
            "1407/1407 [==============================] - 727s 517ms/step - loss: 0.4300 - binary_accuracy: 0.8026 - val_loss: 0.4478 - val_binary_accuracy: 0.7928\n",
            "\n",
            "Epoch 00021: val_loss improved from 0.45608 to 0.44782, saving model to ./model/incepres_vanilla.h5\n",
            "Epoch 22/50\n",
            "1407/1407 [==============================] - 727s 516ms/step - loss: 0.4212 - binary_accuracy: 0.8075 - val_loss: 0.4436 - val_binary_accuracy: 0.7958\n",
            "\n",
            "Epoch 00022: val_loss improved from 0.44782 to 0.44358, saving model to ./model/incepres_vanilla.h5\n",
            "Epoch 23/50\n",
            "1407/1407 [==============================] - 726s 516ms/step - loss: 0.4125 - binary_accuracy: 0.8128 - val_loss: 0.4309 - val_binary_accuracy: 0.8032\n",
            "\n",
            "Epoch 00023: val_loss improved from 0.44358 to 0.43094, saving model to ./model/incepres_vanilla.h5\n",
            "Epoch 24/50\n",
            "1407/1407 [==============================] - 726s 516ms/step - loss: 0.4065 - binary_accuracy: 0.8161 - val_loss: 0.4235 - val_binary_accuracy: 0.8071\n",
            "\n",
            "Epoch 00024: val_loss improved from 0.43094 to 0.42350, saving model to ./model/incepres_vanilla.h5\n",
            "Epoch 25/50\n",
            "1407/1407 [==============================] - 726s 516ms/step - loss: 0.3981 - binary_accuracy: 0.8215 - val_loss: 0.4219 - val_binary_accuracy: 0.8088\n",
            "\n",
            "Epoch 00025: val_loss improved from 0.42350 to 0.42193, saving model to ./model/incepres_vanilla.h5\n",
            "Epoch 26/50\n",
            "1407/1407 [==============================] - 726s 516ms/step - loss: 0.3899 - binary_accuracy: 0.8259 - val_loss: 0.4141 - val_binary_accuracy: 0.8128\n",
            "\n",
            "Epoch 00026: val_loss improved from 0.42193 to 0.41405, saving model to ./model/incepres_vanilla.h5\n",
            "Epoch 27/50\n",
            "1407/1407 [==============================] - 726s 516ms/step - loss: 0.3849 - binary_accuracy: 0.8286 - val_loss: 0.4156 - val_binary_accuracy: 0.8134\n",
            "\n",
            "Epoch 00027: val_loss did not improve from 0.41405\n",
            "Epoch 28/50\n",
            "1407/1407 [==============================] - 725s 515ms/step - loss: 0.3790 - binary_accuracy: 0.8315 - val_loss: 0.4010 - val_binary_accuracy: 0.8219\n",
            "\n",
            "Epoch 00028: val_loss improved from 0.41405 to 0.40100, saving model to ./model/incepres_vanilla.h5\n",
            "Epoch 29/50\n",
            "1407/1407 [==============================] - 726s 516ms/step - loss: 0.3700 - binary_accuracy: 0.8370 - val_loss: 0.3973 - val_binary_accuracy: 0.8233\n",
            "\n",
            "Epoch 00029: val_loss improved from 0.40100 to 0.39726, saving model to ./model/incepres_vanilla.h5\n",
            "Epoch 30/50\n",
            "1407/1407 [==============================] - 726s 516ms/step - loss: 0.3654 - binary_accuracy: 0.8393 - val_loss: 0.3967 - val_binary_accuracy: 0.8246\n",
            "\n",
            "Epoch 00030: val_loss improved from 0.39726 to 0.39675, saving model to ./model/incepres_vanilla.h5\n",
            "Epoch 31/50\n",
            "1407/1407 [==============================] - 726s 516ms/step - loss: 0.3591 - binary_accuracy: 0.8427 - val_loss: 0.3923 - val_binary_accuracy: 0.8280\n",
            "\n",
            "Epoch 00031: val_loss improved from 0.39675 to 0.39226, saving model to ./model/incepres_vanilla.h5\n",
            "Epoch 32/50\n",
            "1407/1407 [==============================] - 725s 515ms/step - loss: 0.3529 - binary_accuracy: 0.8461 - val_loss: 0.3805 - val_binary_accuracy: 0.8343\n",
            "\n",
            "Epoch 00032: val_loss improved from 0.39226 to 0.38046, saving model to ./model/incepres_vanilla.h5\n",
            "Epoch 33/50\n",
            "1407/1407 [==============================] - 726s 516ms/step - loss: 0.3466 - binary_accuracy: 0.8492 - val_loss: 0.3835 - val_binary_accuracy: 0.8321\n",
            "\n",
            "Epoch 00033: val_loss did not improve from 0.38046\n",
            "Epoch 34/50\n",
            "1407/1407 [==============================] - 725s 515ms/step - loss: 0.3417 - binary_accuracy: 0.8520 - val_loss: 0.3889 - val_binary_accuracy: 0.8307\n",
            "\n",
            "Epoch 00034: val_loss did not improve from 0.38046\n",
            "Epoch 35/50\n",
            "1407/1407 [==============================] - 724s 514ms/step - loss: 0.3374 - binary_accuracy: 0.8544 - val_loss: 0.3754 - val_binary_accuracy: 0.8370\n",
            "\n",
            "Epoch 00035: val_loss improved from 0.38046 to 0.37538, saving model to ./model/incepres_vanilla.h5\n",
            "Epoch 36/50\n",
            "1407/1407 [==============================] - 726s 516ms/step - loss: 0.3333 - binary_accuracy: 0.8562 - val_loss: 0.3774 - val_binary_accuracy: 0.8373\n",
            "\n",
            "Epoch 00036: val_loss did not improve from 0.37538\n",
            "Epoch 37/50\n",
            "1407/1407 [==============================] - 725s 515ms/step - loss: 0.3274 - binary_accuracy: 0.8590 - val_loss: 0.3756 - val_binary_accuracy: 0.8377\n",
            "\n",
            "Epoch 00037: val_loss did not improve from 0.37538\n",
            "Epoch 38/50\n",
            "1407/1407 [==============================] - 724s 514ms/step - loss: 0.3232 - binary_accuracy: 0.8612 - val_loss: 0.3678 - val_binary_accuracy: 0.8402\n",
            "\n",
            "Epoch 00038: val_loss improved from 0.37538 to 0.36777, saving model to ./model/incepres_vanilla.h5\n",
            "Epoch 39/50\n",
            "1407/1407 [==============================] - 725s 515ms/step - loss: 0.3184 - binary_accuracy: 0.8641 - val_loss: 0.3704 - val_binary_accuracy: 0.8403\n",
            "\n",
            "Epoch 00039: val_loss did not improve from 0.36777\n",
            "Epoch 40/50\n",
            "1407/1407 [==============================] - 725s 515ms/step - loss: 0.3155 - binary_accuracy: 0.8656 - val_loss: 0.3579 - val_binary_accuracy: 0.8464\n",
            "\n",
            "Epoch 00040: val_loss improved from 0.36777 to 0.35787, saving model to ./model/incepres_vanilla.h5\n",
            "Epoch 41/50\n",
            "1407/1407 [==============================] - 725s 515ms/step - loss: 0.3091 - binary_accuracy: 0.8683 - val_loss: 0.3623 - val_binary_accuracy: 0.8438\n",
            "\n",
            "Epoch 00041: val_loss did not improve from 0.35787\n",
            "Epoch 42/50\n",
            "1407/1407 [==============================] - 725s 515ms/step - loss: 0.3060 - binary_accuracy: 0.8698 - val_loss: 0.3630 - val_binary_accuracy: 0.8440\n",
            "\n",
            "Epoch 00042: val_loss did not improve from 0.35787\n",
            "Epoch 43/50\n",
            "1407/1407 [==============================] - 725s 515ms/step - loss: 0.3018 - binary_accuracy: 0.8717 - val_loss: 0.3606 - val_binary_accuracy: 0.8474\n",
            "\n",
            "Epoch 00043: val_loss did not improve from 0.35787\n",
            "Epoch 44/50\n",
            "1407/1407 [==============================] - 725s 515ms/step - loss: 0.2971 - binary_accuracy: 0.8744 - val_loss: 0.3683 - val_binary_accuracy: 0.8446\n",
            "\n",
            "Epoch 00044: val_loss did not improve from 0.35787\n",
            "Epoch 45/50\n",
            "1407/1407 [==============================] - 725s 515ms/step - loss: 0.2927 - binary_accuracy: 0.8759 - val_loss: 0.3619 - val_binary_accuracy: 0.8454\n",
            "\n",
            "Epoch 00045: val_loss did not improve from 0.35787\n",
            "Epoch 46/50\n",
            "1407/1407 [==============================] - 725s 515ms/step - loss: 0.2874 - binary_accuracy: 0.8785 - val_loss: 0.3550 - val_binary_accuracy: 0.8514\n",
            "\n",
            "Epoch 00046: val_loss improved from 0.35787 to 0.35502, saving model to ./model/incepres_vanilla.h5\n",
            "Epoch 47/50\n",
            "1407/1407 [==============================] - 726s 516ms/step - loss: 0.2845 - binary_accuracy: 0.8805 - val_loss: 0.3563 - val_binary_accuracy: 0.8494\n",
            "\n",
            "Epoch 00047: val_loss did not improve from 0.35502\n",
            "Epoch 48/50\n",
            "1407/1407 [==============================] - 723s 514ms/step - loss: 0.2805 - binary_accuracy: 0.8824 - val_loss: 0.3619 - val_binary_accuracy: 0.8478\n",
            "\n",
            "Epoch 00048: val_loss did not improve from 0.35502\n",
            "Epoch 49/50\n",
            "1407/1407 [==============================] - 724s 514ms/step - loss: 0.2744 - binary_accuracy: 0.8849 - val_loss: 0.3609 - val_binary_accuracy: 0.8491\n",
            "\n",
            "Epoch 00049: val_loss did not improve from 0.35502\n",
            "Epoch 50/50\n",
            "1407/1407 [==============================] - 724s 514ms/step - loss: 0.2706 - binary_accuracy: 0.8869 - val_loss: 0.3625 - val_binary_accuracy: 0.8498\n",
            "\n",
            "Epoch 00050: val_loss did not improve from 0.35502\n"
          ],
          "name": "stdout"
        }
      ]
    },
    {
      "cell_type": "code",
      "metadata": {
        "colab": {
          "base_uri": "https://localhost:8080/",
          "height": 538
        },
        "id": "lJ7I3Ur53ktR",
        "outputId": "204f67e5-c145-4455-d2b0-342a56138477"
      },
      "source": [
        "import matplotlib.pyplot as plt\r\n",
        "plt.style.use(\"seaborn-dark\")\r\n",
        "\r\n",
        "pd.DataFrame(history.history).plot(figsize = (16, 9))\r\n",
        "plt.grid(True)\r\n",
        "plt.gca().set_ylim(0, 1)\r\n",
        "plt.show()"
      ],
      "execution_count": null,
      "outputs": [
        {
          "output_type": "display_data",
          "data": {
            "image/png": "[encoded data removed]",
            "text/plain": [
              "<Figure size 1152x648 with 1 Axes>"
            ]
          },
          "metadata": {
            "tags": []
          }
        }
      ]
    },
    {
      "cell_type": "markdown",
      "metadata": {
        "id": "8FJbSzmi9_uk"
      },
      "source": [
        "## 2.4 TTA prediction "
      ]
    },
    {
      "cell_type": "code",
      "metadata": {
        "colab": {
          "base_uri": "https://localhost:8080/"
        },
        "id": "r4WFKzBC9xrj",
        "outputId": "a409d89b-183f-4516-a1f4-754a766e52f5"
      },
      "source": [
        "test_submit = pd.read_csv('sample_submission.csv')\r\n",
        "test_df = test_submit.copy()\r\n",
        "test_df['index'] = test_submit['index'].apply(lambda x: str(\"{:0>5d}\".format(x))+'.png')\r\n",
        "\r\n",
        "# TTA\r\n",
        "test_gen_ag = ImageDataGenerator(rescale=1./255.,\r\n",
        "                              rotation_range = 10,\r\n",
        "                              width_shift_range = 0.1,\r\n",
        "                              height_shift_range = 0.1,\r\n",
        "                              horizontal_flip = True,\r\n",
        "                              vertical_flip = True,\r\n",
        "                              fill_mode = \"nearest\")\r\n",
        "\r\n",
        "test_generator_ag = test_gen_ag.flow_from_dataframe(dataframe = test_df,        \r\n",
        "                                        directory='./test_route/test_dirty_mnist_2nd',      \r\n",
        "                                        x_col='index',                             \r\n",
        "                                        batch_size = 32,               \r\n",
        "                                        shuffle = False,\r\n",
        "                                        color_mode = \"rgb\",           \r\n",
        "                                        class_mode=None,\r\n",
        "                                        target_size=(256, 256))\r\n",
        "\r\n",
        "batch_size = 32\r\n",
        "tta_steps = 30\r\n",
        "predictions = []\r\n",
        "columns = list(test_df.columns[1:])\r\n",
        "filename = \"incepRes_0224_v1_TTA.csv\"\r\n",
        "\r\n",
        "# 에폭 40까지 중 best Dense \r\n",
        "model = keras.models.load_model(\"./model/incepres_vanilla.h5\")\r\n",
        "\r\n",
        "for i in range(tta_steps):\r\n",
        "    print(\"iter {}\".format(i))\r\n",
        "    preds = model.predict_generator(generator = test_generator_ag,\r\n",
        "                                    steps = 5000 // batch_size, verbose = 1)\r\n",
        "    predictions.append(preds)\r\n",
        "\r\n",
        "# 평균을 통한 final prediction\r\n",
        "pred = np.mean(predictions, axis=0)\r\n",
        "pred_sub = pred.copy()\r\n",
        "\r\n",
        "# get label\r\n",
        "pred_sub = pred_sub.round()\r\n",
        "\r\n",
        "# create DF\r\n",
        "res = pd.DataFrame(pred_sub, columns = columns )\r\n",
        "int_rest = res.astype(int)\r\n",
        "submit = pd.concat([test_submit.iloc[:,0],int_rest], axis = 1)\r\n",
        "\r\n",
        "submit.to_csv(filename, index = False)"
      ],
      "execution_count": null,
      "outputs": [
        {
          "output_type": "stream",
          "text": [
            "Found 5000 validated image filenames.\n"
          ],
          "name": "stdout"
        },
        {
          "output_type": "stream",
          "text": [
            "/usr/local/lib/python3.6/dist-packages/tensorflow/python/keras/engine/training.py:1905: UserWarning: `Model.predict_generator` is deprecated and will be removed in a future version. Please use `Model.predict`, which supports generators.\n",
            "  warnings.warn('`Model.predict_generator` is deprecated and '\n"
          ],
          "name": "stderr"
        },
        {
          "output_type": "stream",
          "text": [
            "156/156 [==============================] - 66s 408ms/step\n",
            "156/156 [==============================] - 64s 407ms/step\n",
            "156/156 [==============================] - 64s 411ms/step\n",
            "156/156 [==============================] - 64s 410ms/step\n",
            "156/156 [==============================] - 63s 405ms/step\n",
            "156/156 [==============================] - 63s 406ms/step\n",
            "156/156 [==============================] - 63s 403ms/step\n",
            "156/156 [==============================] - 64s 408ms/step\n",
            "156/156 [==============================] - 63s 404ms/step\n",
            "156/156 [==============================] - 63s 405ms/step\n",
            "156/156 [==============================] - 63s 404ms/step\n",
            "156/156 [==============================] - 64s 407ms/step\n",
            "156/156 [==============================] - 63s 404ms/step\n",
            "156/156 [==============================] - 63s 404ms/step\n",
            "156/156 [==============================] - 63s 406ms/step\n",
            "156/156 [==============================] - 63s 404ms/step\n",
            "156/156 [==============================] - 64s 407ms/step\n",
            "156/156 [==============================] - 63s 406ms/step\n",
            "156/156 [==============================] - 63s 404ms/step\n",
            "156/156 [==============================] - 63s 404ms/step\n",
            "156/156 [==============================] - 63s 406ms/step\n",
            "156/156 [==============================] - 63s 404ms/step\n",
            "156/156 [==============================] - 63s 405ms/step\n",
            "156/156 [==============================] - 63s 404ms/step\n",
            "156/156 [==============================] - 63s 406ms/step\n",
            "156/156 [==============================] - 63s 403ms/step\n",
            "156/156 [==============================] - 63s 405ms/step\n",
            "156/156 [==============================] - 63s 404ms/step\n",
            "156/156 [==============================] - 64s 408ms/step\n",
            "156/156 [==============================] - 63s 401ms/step\n"
          ],
          "name": "stdout"
        }
      ]
    },
    {
      "cell_type": "markdown",
      "metadata": {
        "id": "CZGvn7H6MOlA"
      },
      "source": [
        "## 2.5 데이터 추가사용"
      ]
    },
    {
      "cell_type": "code",
      "metadata": {
        "colab": {
          "base_uri": "https://localhost:8080/"
        },
        "id": "HXrII3DoMaNi",
        "outputId": "677da97f-35af-4de2-c7bf-8b63aee5b662"
      },
      "source": [
        "datagen2 = ImageDataGenerator(rescale=1./255.,\r\n",
        "                             rotation_range = 10,\r\n",
        "                             width_shift_range = 0.1,\r\n",
        "                             height_shift_range = 0.1,\r\n",
        "                             horizontal_flip = True,\r\n",
        "                             vertical_flip = True,\r\n",
        "                             validation_split = 0.02)\r\n",
        "\r\n",
        "# generator\r\n",
        "train_gen2 = datagen2.flow_from_dataframe(dataframe = meta_df,        \r\n",
        "                                        directory = train_dir,       \r\n",
        "                                        x_col='index',               \r\n",
        "                                        y_col=columns,                \r\n",
        "                                        batch_size = 32,               \r\n",
        "                                        seed = 43,\r\n",
        "                                        color_mode = \"rgb\",           \r\n",
        "                                        class_mode='raw',\r\n",
        "                                        target_size=(256, 256),       \r\n",
        "                                        subset='training')\r\n",
        "\r\n",
        "valid_gen2 = datagen2.flow_from_dataframe(dataframe = meta_df,        \r\n",
        "                                        directory = train_dir,       \r\n",
        "                                        x_col='index',               \r\n",
        "                                        y_col=columns,                \r\n",
        "                                        batch_size = 32,               \r\n",
        "                                        seed = 43,\r\n",
        "                                        color_mode = \"rgb\",           \r\n",
        "                                        class_mode='raw',\r\n",
        "                                        target_size=(256, 256),       \r\n",
        "                                        subset='validation')"
      ],
      "execution_count": null,
      "outputs": [
        {
          "output_type": "stream",
          "text": [
            "Found 49000 validated image filenames.\n",
            "Found 1000 validated image filenames.\n"
          ],
          "name": "stdout"
        }
      ]
    },
    {
      "cell_type": "code",
      "metadata": {
        "colab": {
          "base_uri": "https://localhost:8080/"
        },
        "id": "YZ02GDVKMtkn",
        "outputId": "3850b0ea-2dc9-4205-d983-3d8d9659e540"
      },
      "source": [
        "# 모델 학습률 확인하기 \r\n",
        "import keras.backend as K\r\n",
        "\r\n",
        "print(K.eval(model.optimizer.lr))"
      ],
      "execution_count": null,
      "outputs": [
        {
          "output_type": "stream",
          "text": [
            "0.0006382393\n"
          ],
          "name": "stdout"
        }
      ]
    },
    {
      "cell_type": "code",
      "metadata": {
        "colab": {
          "base_uri": "https://localhost:8080/"
        },
        "id": "NfAe9osBAyl-",
        "outputId": "70f7e9af-2b31-44f8-8989-89d3ca1ab224"
      },
      "source": [
        "checkpoint2 = keras.callbacks.ModelCheckpoint('./model/incepres_vanilla_add.h5', \r\n",
        "                                             save_best_only=True, verbose=1,\r\n",
        "                                             mode = \"min\",monitor = \"val_loss\")\r\n",
        "\r\n",
        "\r\n",
        "# fitting\r\n",
        "history2 = model.fit(train_gen2, epochs = 30, \r\n",
        "                    validation_data = valid_gen2, \r\n",
        "                     callbacks = [checkpoint2, early_stop_cb, lr_callback])"
      ],
      "execution_count": null,
      "outputs": [
        {
          "output_type": "stream",
          "text": [
            "Epoch 1/30\n",
            "1532/1532 [==============================] - 753s 477ms/step - loss: 0.2175 - binary_accuracy: 0.9122 - val_loss: 0.2892 - val_binary_accuracy: 0.8833\n",
            "\n",
            "Epoch 00001: val_loss improved from inf to 0.28923, saving model to ./model/incepres_vanilla_add.h5\n",
            "Epoch 2/30\n",
            "1532/1532 [==============================] - 730s 476ms/step - loss: 0.2096 - binary_accuracy: 0.9154 - val_loss: 0.2914 - val_binary_accuracy: 0.8866\n",
            "\n",
            "Epoch 00002: val_loss did not improve from 0.28923\n",
            "Epoch 3/30\n",
            "1532/1532 [==============================] - 729s 476ms/step - loss: 0.2026 - binary_accuracy: 0.9186 - val_loss: 0.2898 - val_binary_accuracy: 0.8846\n",
            "\n",
            "Epoch 00003: val_loss did not improve from 0.28923\n",
            "Epoch 4/30\n",
            "1532/1532 [==============================] - 729s 476ms/step - loss: 0.1971 - binary_accuracy: 0.9210 - val_loss: 0.2918 - val_binary_accuracy: 0.8860\n",
            "\n",
            "Epoch 00004: val_loss did not improve from 0.28923\n",
            "Epoch 5/30\n",
            "1532/1532 [==============================] - 730s 476ms/step - loss: 0.1897 - binary_accuracy: 0.9242 - val_loss: 0.2940 - val_binary_accuracy: 0.8848\n",
            "\n",
            "Epoch 00005: val_loss did not improve from 0.28923\n",
            "Epoch 6/30\n",
            "1532/1532 [==============================] - 730s 476ms/step - loss: 0.1838 - binary_accuracy: 0.9267 - val_loss: 0.2940 - val_binary_accuracy: 0.8851\n",
            "\n",
            "Epoch 00006: val_loss did not improve from 0.28923\n",
            "Epoch 7/30\n",
            "1532/1532 [==============================] - 728s 475ms/step - loss: 0.1774 - binary_accuracy: 0.9296 - val_loss: 0.2890 - val_binary_accuracy: 0.8853\n",
            "\n",
            "Epoch 00007: val_loss improved from 0.28923 to 0.28904, saving model to ./model/incepres_vanilla_add.h5\n",
            "Epoch 8/30\n",
            "1532/1532 [==============================] - 729s 476ms/step - loss: 0.1720 - binary_accuracy: 0.9318 - val_loss: 0.2986 - val_binary_accuracy: 0.8882\n",
            "\n",
            "Epoch 00008: val_loss did not improve from 0.28904\n",
            "Epoch 9/30\n",
            "1532/1532 [==============================] - 729s 476ms/step - loss: 0.1647 - binary_accuracy: 0.9348 - val_loss: 0.3048 - val_binary_accuracy: 0.8821\n",
            "\n",
            "Epoch 00009: val_loss did not improve from 0.28904\n",
            "Epoch 10/30\n",
            "1532/1532 [==============================] - 729s 476ms/step - loss: 0.1585 - binary_accuracy: 0.9374 - val_loss: 0.3075 - val_binary_accuracy: 0.8835\n",
            "\n",
            "Epoch 00010: val_loss did not improve from 0.28904\n",
            "Epoch 11/30\n",
            "1532/1532 [==============================] - 729s 476ms/step - loss: 0.1539 - binary_accuracy: 0.9394 - val_loss: 0.3088 - val_binary_accuracy: 0.8838\n",
            "\n",
            "Epoch 00011: val_loss did not improve from 0.28904\n",
            "Epoch 12/30\n",
            "1532/1532 [==============================] - 729s 476ms/step - loss: 0.1472 - binary_accuracy: 0.9421 - val_loss: 0.3118 - val_binary_accuracy: 0.8871\n",
            "\n",
            "Epoch 00012: val_loss did not improve from 0.28904\n",
            "Epoch 13/30\n",
            "1532/1532 [==============================] - 729s 476ms/step - loss: 0.1400 - binary_accuracy: 0.9455 - val_loss: 0.3133 - val_binary_accuracy: 0.8892\n",
            "\n",
            "Epoch 00013: val_loss did not improve from 0.28904\n",
            "Epoch 14/30\n",
            "1532/1532 [==============================] - 729s 476ms/step - loss: 0.1348 - binary_accuracy: 0.9476 - val_loss: 0.3168 - val_binary_accuracy: 0.8843\n",
            "\n",
            "Epoch 00014: val_loss did not improve from 0.28904\n",
            "Epoch 15/30\n",
            "1532/1532 [==============================] - 729s 476ms/step - loss: 0.1303 - binary_accuracy: 0.9495 - val_loss: 0.3225 - val_binary_accuracy: 0.8874\n",
            "\n",
            "Epoch 00015: val_loss did not improve from 0.28904\n",
            "Epoch 16/30\n",
            "1532/1532 [==============================] - 729s 476ms/step - loss: 0.1256 - binary_accuracy: 0.9515 - val_loss: 0.3340 - val_binary_accuracy: 0.8847\n",
            "\n",
            "Epoch 00016: val_loss did not improve from 0.28904\n",
            "Epoch 17/30\n",
            "1532/1532 [==============================] - 731s 477ms/step - loss: 0.1217 - binary_accuracy: 0.9534 - val_loss: 0.3341 - val_binary_accuracy: 0.8852\n",
            "\n",
            "Epoch 00017: val_loss did not improve from 0.28904\n"
          ],
          "name": "stdout"
        }
      ]
    },
    {
      "cell_type": "code",
      "metadata": {
        "colab": {
          "base_uri": "https://localhost:8080/"
        },
        "id": "6fFjNBVvVipn",
        "outputId": "fc34b93c-7c0b-41fc-c777-97244d08d78f"
      },
      "source": [
        "test_submit = pd.read_csv('sample_submission.csv')\r\n",
        "test_df = test_submit.copy()\r\n",
        "test_df['index'] = test_submit['index'].apply(lambda x: str(\"{:0>5d}\".format(x))+'.png')\r\n",
        "\r\n",
        "# TTA\r\n",
        "test_gen_ag = ImageDataGenerator(rescale=1./255.,\r\n",
        "                              rotation_range = 10,\r\n",
        "                              width_shift_range = 0.1,\r\n",
        "                              height_shift_range = 0.1,\r\n",
        "                              horizontal_flip = True,\r\n",
        "                              vertical_flip = True,\r\n",
        "                              fill_mode = \"nearest\")\r\n",
        "\r\n",
        "test_generator_ag = test_gen_ag.flow_from_dataframe(dataframe = test_df,        \r\n",
        "                                        directory='./test_route/test_dirty_mnist_2nd',      \r\n",
        "                                        x_col='index',                             \r\n",
        "                                        batch_size = 32,               \r\n",
        "                                        shuffle = False,\r\n",
        "                                        color_mode = \"rgb\",           \r\n",
        "                                        class_mode=None,\r\n",
        "                                        target_size=(256, 256))\r\n",
        "\r\n",
        "batch_size = 32\r\n",
        "tta_steps = 10\r\n",
        "predictions = []\r\n",
        "columns = list(test_df.columns[1:])\r\n",
        "filename = \"incepRes_0224_v2_TTA.csv\"\r\n",
        "\r\n",
        "# 에폭 40까지 중 best Dense \r\n",
        "model = keras.models.load_model(\"./model/incepres_vanilla_add.h5\")\r\n",
        "\r\n",
        "for i in range(tta_steps):\r\n",
        "    print(\"iteration : {}\".format(i+1))\r\n",
        "    preds = model.predict_generator(generator = test_generator_ag,\r\n",
        "                                    steps = 5000 // batch_size, verbose = 1)\r\n",
        "    predictions.append(preds)\r\n",
        "\r\n",
        "# 평균을 통한 final prediction\r\n",
        "pred = np.mean(predictions, axis=0)\r\n",
        "pred_sub = pred.copy()\r\n",
        "\r\n",
        "# get label\r\n",
        "pred_sub = pred_sub.round()\r\n",
        "\r\n",
        "# create DF\r\n",
        "res = pd.DataFrame(pred_sub, columns = columns )\r\n",
        "int_rest = res.astype(int)\r\n",
        "submit = pd.concat([test_submit.iloc[:,0],int_rest], axis = 1)\r\n",
        "\r\n",
        "submit.to_csv(filename, index = False)"
      ],
      "execution_count": null,
      "outputs": [
        {
          "output_type": "stream",
          "text": [
            "Found 5000 validated image filenames.\n",
            "iteration : 0\n"
          ],
          "name": "stdout"
        },
        {
          "output_type": "stream",
          "text": [
            "/usr/local/lib/python3.7/dist-packages/tensorflow/python/keras/engine/training.py:1905: UserWarning: `Model.predict_generator` is deprecated and will be removed in a future version. Please use `Model.predict`, which supports generators.\n",
            "  warnings.warn('`Model.predict_generator` is deprecated and '\n"
          ],
          "name": "stderr"
        },
        {
          "output_type": "stream",
          "text": [
            "156/156 [==============================] - 1169s 8s/step\n",
            "iteration : 1\n",
            "156/156 [==============================] - 75s 478ms/step\n",
            "iteration : 2\n",
            "156/156 [==============================] - 74s 477ms/step\n",
            "iteration : 3\n",
            "156/156 [==============================] - 75s 478ms/step\n",
            "iteration : 4\n",
            "156/156 [==============================] - 75s 480ms/step\n",
            "iteration : 5\n",
            "156/156 [==============================] - 74s 477ms/step\n",
            "iteration : 6\n",
            "156/156 [==============================] - 75s 479ms/step\n",
            "iteration : 7\n",
            "156/156 [==============================] - 74s 477ms/step\n",
            "iteration : 8\n",
            "156/156 [==============================] - 76s 485ms/step\n",
            "iteration : 9\n",
            "156/156 [==============================] - 74s 476ms/step\n"
          ],
          "name": "stdout"
        }
      ]
    }
  ]
}