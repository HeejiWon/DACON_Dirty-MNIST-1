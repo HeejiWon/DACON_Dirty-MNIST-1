{
 "cells": [
  {
   "cell_type": "markdown",
   "metadata": {},
   "source": [
    "### Setting with Colab"
   ]
  },
  {
   "cell_type": "code",
   "execution_count": null,
   "metadata": {},
   "outputs": [],
   "source": [
    "# 구글드라이브 연동\n",
    "\n",
    "from google.colab import drive\n",
    "drive.mount('/content/drive', force_remount=True)"
   ]
  },
  {
   "cell_type": "code",
   "execution_count": null,
   "metadata": {},
   "outputs": [],
   "source": [
    "# 모듈 import\n",
    "\n",
    "# !pip install tensorflow-addons\n",
    "import numpy as np\n",
    "import pandas as pd\n",
    "import os\n",
    "import shutil\n",
    "import matplotlib.pyplot as plt\n",
    "import tensorflow as tf\n",
    "from tensorflow import  keras\n",
    "from tensorflow.keras.preprocessing.image import ImageDataGenerator\n",
    "import tensorflow_addons as tfa\n",
    "from keras.models import load_model\n",
    "from PIL import Image\n",
    "import math\n",
    "from IPython.display import SVG\n",
    "from keras.utils.vis_utils import model_to_dot\n",
    "from tqdm import tqdm\n",
    "%matplotlib inline"
   ]
  },
  {
   "cell_type": "code",
   "execution_count": null,
   "metadata": {},
   "outputs": [],
   "source": [
    "# set working directory\n",
    "\n",
    "os.chdir('/content/drive/MyDrive/Colab Notebooks/데이콘_mnist')\n",
    "#!pwd "
   ]
  },
  {
   "cell_type": "markdown",
   "metadata": {},
   "source": [
    "### Data Preparing"
   ]
  },
  {
   "cell_type": "code",
   "execution_count": null,
   "metadata": {},
   "outputs": [],
   "source": [
    "# 생성한 디렉토리에 zip파일 압축해제\n",
    "\n",
    "# shutil.rmtree(\"dacon_m12/dirty_mnist3\", ignore_errors=True)  # 빈 폴더가 아니더라도 무시하고 삭제하는 코드\n",
    "!mkdir \"dacon_m12/dirty_mnist3\"\n",
    "!unzip \"dacon_m12/dirty_mnist.zip\" -d \"dacon_m12/dirty_mnist3\""
   ]
  },
  {
   "cell_type": "code",
   "execution_count": null,
   "metadata": {},
   "outputs": [],
   "source": [
    "# 이미지 데이터 확인하기\n",
    "\n",
    "image = Image.open(\"hj/dirty_mnist/00001.png\")\n",
    "image"
   ]
  },
  {
   "cell_type": "code",
   "execution_count": null,
   "metadata": {},
   "outputs": [],
   "source": [
    "# Generator를 사용하기 위해 dataframe 만들기\n",
    "\n",
    "df = pd.read_csv('dacon_m12/dirty_mnist_answer.csv')\n",
    "df['index'] = df['index'].apply(lambda x: str(\"{:0>5d}\".format(x))+'.png')"
   ]
  },
  {
   "cell_type": "markdown",
   "metadata": {},
   "source": [
    "### Data preprocessing"
   ]
  },
  {
   "cell_type": "code",
   "execution_count": null,
   "metadata": {},
   "outputs": [],
   "source": [
    "columns = list(map(chr, range(97, 123))) # 'abcde...xyz'를 만들어주는 코드\n",
    "\n",
    "# Data augmentation\n",
    "datagen=ImageDataGenerator(rescale=1./255., validation_split=0.1,\n",
    "                           rotation_range=30,\n",
    "                           horizontal_flip=True,\n",
    "                           vertical_flip=True)\n",
    "\n",
    "# Generator (train & test)\n",
    "train_gen = datagen.flow_from_dataframe(dataframe=df,\n",
    "                                        directory=train_data_dir,\n",
    "                                        x_col='index',\n",
    "                                        y_col=columns,\n",
    "                                        batch_size=32,\n",
    "                                        seed=1,\n",
    "                                        color_mode='rgb',\n",
    "                                        shuffle=True,\n",
    "                                        class_mode='raw',\n",
    "                                        target_size=(128, 128),\n",
    "                                        subset='training')\n",
    "\n",
    "val_gen = datagen.flow_from_dataframe(dataframe=df,\n",
    "                                        directory=train_data_dir,\n",
    "                                        x_col='index',\n",
    "                                        y_col=columns,\n",
    "                                        batch_size=32,\n",
    "                                        seed=1,\n",
    "                                        color_mode='rgb',\n",
    "                                        shuffle=True,\n",
    "                                        class_mode='raw',\n",
    "                                        target_size=(128, 128),\n",
    "                                        subset='validation')"
   ]
  },
  {
   "cell_type": "code",
   "execution_count": null,
   "metadata": {},
   "outputs": [],
   "source": [
    "# 데이터 확인하기 1\n",
    "\n",
    "x_train, y_train = train_gen.next()\n",
    "for idx in range(3):  \n",
    "    print(x_train[idx].shape)\n",
    "    print(y_train[idx])"
   ]
  },
  {
   "cell_type": "code",
   "execution_count": null,
   "metadata": {},
   "outputs": [],
   "source": [
    "# 데이터 확인하기 2 - 이미지 확인 (Generator에서 batch_size=1 지정 필수!)\n",
    "\n",
    "X, y = train_gen.next()\n",
    "X_reshape = X.reshape(256, 256)\n",
    "\n",
    "plt.figure(figsize=(5, 5)) \n",
    "plt.axis('off')\n",
    "plt.imshow(X_reshape, cmap='gray')\n",
    "plt.show()"
   ]
  },
  {
   "cell_type": "markdown",
   "metadata": {},
   "source": [
    "### Modeling\n",
    "#### 1. (Pretrained) InceptionResnet + Lookahead \n",
    "- 30 epochs\n",
    "- acc : 89.98%"
   ]
  },
  {
   "cell_type": "code",
   "execution_count": null,
   "metadata": {},
   "outputs": [],
   "source": [
    "tf.random.set_seed(1)\n",
    "InceptionResNetV2_Lookahead = tf.keras.Sequential([tf.keras.applications.inception_resnet_v2.InceptionResNetV2(weights='imagenet', include_top=False, input_shape=(256, 256, 3)),\n",
    "                              tf.keras.layers.GlobalAveragePooling2D(),\n",
    "                              tf.keras.layers.Dense(1024, kernel_initializer='he_normal'),\n",
    "                              tf.keras.layers.BatchNormalization(),\n",
    "                              tf.keras.layers.Activation('relu'),\n",
    "                              tf.keras.layers.Dense(512, kernel_initializer='he_normal'),\n",
    "                              tf.keras.layers.BatchNormalization(),\n",
    "                              tf.keras.layers.Activation('relu'),\n",
    "                              tf.keras.layers.Dense(256, kernel_initializer='he_normal'),\n",
    "                              tf.keras.layers.BatchNormalization(),\n",
    "                              tf.keras.layers.Activation('relu'),\n",
    "                              tf.keras.layers.Dense(26, kernel_initializer='he_normal', activation='sigmoid', name='predictions')\n",
    "                              ])"
   ]
  },
  {
   "cell_type": "code",
   "execution_count": null,
   "metadata": {},
   "outputs": [],
   "source": [
    "# 모델 구조 시각화\n",
    "SVG(model_to_dot(InceptionResNetV2_Lookahead, show_shapes=True, dpi=65).create(prog='dot', format='svg'))"
   ]
  },
  {
   "cell_type": "code",
   "execution_count": null,
   "metadata": {},
   "outputs": [],
   "source": [
    "nadam = tf.keras.optimizers.Nadam()\n",
    "opt = tfa.optimizers.Lookahead(nadam)  # lookahead 추가\n",
    "\n",
    "InceptionResNetV2_Lookahead.compile(optimizer = opt, loss=\"binary_crossentropy\", metrics=[tf.keras.metrics.BinaryAccuracy()])"
   ]
  },
  {
   "cell_type": "code",
   "execution_count": null,
   "metadata": {},
   "outputs": [],
   "source": [
    "checkpoint = tf.keras.callbacks.ModelCheckpoint(f'hj/InceptionResNetV2_Lookahead.h5', verbose=1, save_best_only=True)\n",
    "early_stop_cb = keras.callbacks.EarlyStopping(patience = 10)"
   ]
  },
  {
   "cell_type": "code",
   "execution_count": null,
   "metadata": {},
   "outputs": [],
   "source": [
    "InceptionResNetV2_Lookahead.fit_generator(train_gen, epochs=30, validation_data=val_gen, callbacks=[checkpoint, early_stop_cb])"
   ]
  },
  {
   "cell_type": "markdown",
   "metadata": {},
   "source": [
    "#### 2. (Trained) 1번 모델에 30 epochs 추가하여 학습시킨 모델 저장하기\n",
    "- 30 epochs + 10 epochs\n",
    "- acc : 90.04%"
   ]
  },
  {
   "cell_type": "code",
   "execution_count": null,
   "metadata": {},
   "outputs": [],
   "source": [
    "nceptionResNetV2_Lookahead_more = load_model('hj/InceptionResNetV2_Lookahead.h5')"
   ]
  },
  {
   "cell_type": "code",
   "execution_count": null,
   "metadata": {},
   "outputs": [],
   "source": [
    "checkpoint = tf.keras.callbacks.ModelCheckpoint(f'hj/InceptionResNetV2_Lookahead_more.h5', verbose=1, save_best_only=True)\n",
    "early_stop_cb = keras.callbacks.EarlyStopping(patience = 10)"
   ]
  },
  {
   "cell_type": "code",
   "execution_count": null,
   "metadata": {},
   "outputs": [],
   "source": [
    "InceptionResNetV2_Lookahead_more.fit_generator(train_gen, epochs=30, validation_data=val_gen, callbacks=[checkpoint, early_stop_cb])"
   ]
  },
  {
   "cell_type": "markdown",
   "metadata": {},
   "source": [
    "#### 2. 1번 모델(30 epochs)에 cycle scheduling을 이용해서 더 학습시키기\n",
    "- 30 epochs + 12 epochs (until best model) \n",
    "- acc : 91.55%"
   ]
  },
  {
   "cell_type": "code",
   "execution_count": null,
   "metadata": {},
   "outputs": [],
   "source": [
    "InceptionResNetV2_Lookahead_more_cycle = load_model('hj/InceptionResNetV2_Lookahead.h5')"
   ]
  },
  {
   "cell_type": "code",
   "execution_count": null,
   "metadata": {},
   "outputs": [],
   "source": [
    "n_epochs = 30\n",
    "first_decay_steps = (math.ceil(45000 // 32) * n_epochs) // 7   # 4 epoch\n",
    "initial_learning_rate = 0.001\n",
    "\n",
    "lr_decayed_fn = (\n",
    "  tf.keras.experimental.CosineDecayRestarts(\n",
    "      initial_learning_rate,\n",
    "      first_decay_steps,\n",
    "      t_mul=2.0,   # 주기를 늘려갈 비율\n",
    "      m_mul=0.9))  # 매 주기마다 곱해줄 값"
   ]
  },
  {
   "cell_type": "code",
   "execution_count": null,
   "metadata": {},
   "outputs": [],
   "source": [
    "adam = optimizer = keras.optimizers.Adam(learning_rate = lr_decayed_fn)\n",
    "opt = tfa.optimizers.Lookahead(adam) \n",
    "\n",
    "InceptionResNetV2_Lookahead_more_cycle.compile(optimizer = optimizer, loss = \"binary_crossentropy\", metrics = [tf.keras.metrics.BinaryAccuracy()])"
   ]
  },
  {
   "cell_type": "code",
   "execution_count": null,
   "metadata": {},
   "outputs": [],
   "source": [
    "checkpoint = tf.keras.callbacks.ModelCheckpoint(f'hj/InceptionResNetV2_Lookahead_more_cycle.h5', verbose=1, save_best_only=True)\n",
    "early_stop_cb = keras.callbacks.EarlyStopping(patience = 10)"
   ]
  },
  {
   "cell_type": "code",
   "execution_count": null,
   "metadata": {},
   "outputs": [],
   "source": [
    "InceptionResNetV2_Lookahead_more_cycle.fit_generator(train_gen, epochs=30, validation_data=val_gen, callbacks=[checkpoint, early_stop_cb])"
   ]
  },
  {
   "cell_type": "markdown",
   "metadata": {},
   "source": [
    "#### 3. Data를 grayscale로 generate하여 Conv layer 하나  + (Pretrained) Xception\n",
    "- 30 epochs\n",
    "- acc : 79%"
   ]
  },
  {
   "cell_type": "code",
   "execution_count": null,
   "metadata": {},
   "outputs": [],
   "source": [
    "Xception = tf.keras.Sequential([tf.keras.layers.Conv2D(3, (3, 3), padding='same', input_shape=[256, 256, 1]),\n",
    "                              tf.keras.applications.Xception(weights='imagenet', include_top=False, input_shape=(256, 256, 3)),\n",
    "                              tf.keras.layers.GlobalAveragePooling2D(),\n",
    "                              tf.keras.layers.Dense(1024, kernel_initializer='he_normal'),\n",
    "                              tf.keras.layers.BatchNormalization(),\n",
    "                              tf.keras.layers.Activation('relu'),\n",
    "                              tf.keras.layers.Dense(512, kernel_initializer='he_normal'),\n",
    "                              tf.keras.layers.BatchNormalization(),\n",
    "                              tf.keras.layers.Activation('relu'),\n",
    "                              tf.keras.layers.Dense(256, kernel_initializer='he_normal'),\n",
    "                              tf.keras.layers.BatchNormalization(),\n",
    "                              tf.keras.layers.Activation('relu'),\n",
    "                              tf.keras.layers.Dense(26, kernel_initializer='he_normal', activation='sigmoid', name='predictions')\n",
    "                              ])"
   ]
  },
  {
   "cell_type": "code",
   "execution_count": null,
   "metadata": {},
   "outputs": [],
   "source": [
    "Xception.compile(optimizer = tf.keras.optimizers.Nadam(), loss=\"binary_crossentropy\", metrics=[tf.keras.metrics.BinaryAccuracy()])"
   ]
  },
  {
   "cell_type": "code",
   "execution_count": null,
   "metadata": {},
   "outputs": [],
   "source": [
    "checkpoint = tf.keras.callbacks.ModelCheckpoint(f'hj/Xception_2nd.h5', verbose=1, save_best_only=True)\n",
    "early_stop_cb = keras.callbacks.EarlyStopping(patience = 10)"
   ]
  },
  {
   "cell_type": "code",
   "execution_count": null,
   "metadata": {},
   "outputs": [],
   "source": [
    "Xception.fit(train_gen, epochs=50, validation_data=val_gen, callbacks=[checkpoint, early_stop_cb])"
   ]
  },
  {
   "cell_type": "markdown",
   "metadata": {},
   "source": [
    "#### 4. SWA 적용\n",
    "- 코드 생략"
   ]
  },
  {
   "cell_type": "markdown",
   "metadata": {},
   "source": [
    "### Prediction"
   ]
  },
  {
   "cell_type": "code",
   "execution_count": null,
   "metadata": {},
   "outputs": [],
   "source": [
    "# 데이터 준비\n",
    "test_submit = pd.read_csv('dacon_m12/sample_submission.csv')\n",
    "test_df = test_submit.copy()\n",
    "test_df['index'] = test_submit['index'].apply(lambda x: str(\"{:0>5d}\".format(x))+'.png')"
   ]
  },
  {
   "cell_type": "code",
   "execution_count": null,
   "metadata": {},
   "outputs": [],
   "source": [
    "# TTA 적용하기 위해 augmentation 해주기\n",
    "test_gen = ImageDataGenerator(rescale=1./255.,\n",
    "                              rotation_range = 30,\n",
    "                              horizontal_flip = True,\n",
    "                              vertical_flip = True)\n",
    "\n",
    "test_gen = test_gen.flow_from_dataframe(dataframe = test_df,        \n",
    "                                        directory='./test_route/test_dirty_mnist_2nd',      \n",
    "                                        x_col='index',                             \n",
    "                                        batch_size = 32,               \n",
    "                                        shuffle = False,                \n",
    "                                        color_mode = \"rgb\",           \n",
    "                                        class_mode=None,\n",
    "                                        seed=1,\n",
    "                                        target_size=(256, 256))"
   ]
  },
  {
   "cell_type": "code",
   "execution_count": null,
   "metadata": {},
   "outputs": [],
   "source": [
    "batch_size = 32\n",
    "tta_steps = 30\n",
    "predictions = []\n",
    "columns = list(test_df.columns[1:])\n",
    "filename = \"submit.csv\"\n",
    "\n",
    "for i in tqdm(range(tta_steps)):\n",
    "    print(\"iter {}\".format(i))\n",
    "    preds = model.predict_generator(generator = test_gen, steps = 5000 // batch_size, verbose = 1)\n",
    "    predictions.append(preds)\n",
    "\n",
    "# 평균을 통한 final prediction\n",
    "pred = np.mean(predictions, axis=0)\n",
    "pred_sub = pred.copy()\n",
    "\n",
    "# get label\n",
    "pred_sub = pred_sub.round()\n",
    "\n",
    "# create DF\n",
    "res = pd.DataFrame(pred_sub, columns = columns )\n",
    "int_rest = res.astype(int)\n",
    "submit = pd.concat([test_submit.iloc[:,0],int_rest], axis = 1)\n",
    "\n",
    "submit.to_csv(filename, index = False)"
   ]
  }
 ],
 "metadata": {
  "kernelspec": {
   "display_name": "Python 3",
   "language": "python",
   "name": "python3"
  },
  "language_info": {
   "codemirror_mode": {
    "name": "ipython",
    "version": 3
   },
   "file_extension": ".py",
   "mimetype": "text/x-python",
   "name": "python",
   "nbconvert_exporter": "python",
   "pygments_lexer": "ipython3",
   "version": "3.7.7"
  }
 },
 "nbformat": 4,
 "nbformat_minor": 4
}
