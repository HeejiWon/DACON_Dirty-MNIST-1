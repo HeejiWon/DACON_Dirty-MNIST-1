{
  "nbformat": 4,
  "nbformat_minor": 0,
  "metadata": {
    "colab": {
      "name": "0301_prediction",
      "provenance": [],
      "machine_shape": "hm",
      "authorship_tag": "ABX9TyNMe82680r3iadVn0DN4SZT",
      "include_colab_link": true
    },
    "kernelspec": {
      "name": "python3",
      "display_name": "Python 3"
    },
    "accelerator": "GPU"
  },
  "cells": [
    {
      "cell_type": "markdown",
      "metadata": {
        "id": "view-in-github",
        "colab_type": "text"
      },
      "source": [
        "<a href=\"https://colab.research.google.com/github/changdaeoh/DACON_Dirty-MNIST/blob/main/0301_prediction.ipynb\" target=\"_parent\"><img src=\"https://colab.research.google.com/assets/colab-badge.svg\" alt=\"Open In Colab\"/></a>"
      ]
    },
    {
      "cell_type": "code",
      "metadata": {
        "colab": {
          "base_uri": "https://localhost:8080/"
        },
        "id": "CBl9qWLPr41G",
        "outputId": "f9002911-1b63-4095-a4b5-0dcc44125cdf"
      },
      "source": [
        "# 구글드라이브와 연동\r\n",
        "from google.colab import drive\r\n",
        "drive.mount('/content/drive')"
      ],
      "execution_count": null,
      "outputs": [
        {
          "output_type": "stream",
          "text": [
            "Mounted at /content/drive\n"
          ],
          "name": "stdout"
        }
      ]
    },
    {
      "cell_type": "markdown",
      "metadata": {
        "id": "0Hk4VVcgs22n"
      },
      "source": [
        "# Setting"
      ]
    },
    {
      "cell_type": "code",
      "metadata": {
        "colab": {
          "base_uri": "https://localhost:8080/"
        },
        "id": "rcxmBRTcr4vx",
        "outputId": "4babc72a-38d8-40b6-840b-f70863322d9e"
      },
      "source": [
        "!pip install tensorflow_addons\r\n",
        "import tensorflow_addons as tfa\r\n",
        "\r\n",
        "# common modules\r\n",
        "import tensorflow as tf\r\n",
        "from tensorflow import  keras\r\n",
        "\r\n",
        "import numpy as np\r\n",
        "import pandas as pd \r\n",
        "import random\r\n",
        "\r\n",
        "from tensorflow.keras.preprocessing.image import ImageDataGenerator\r\n",
        "\r\n",
        "import os\r\n",
        "os.chdir('/content/drive/MyDrive/project_dataset/dacon_v2')\r\n",
        "\r\n",
        "# 데이터 경로\r\n",
        "train_dir = \"/content/drive/MyDrive/project_dataset/dacon_v2/dirty_mnist_2nd\"\r\n",
        "test_dir = \"/content/drive/MyDrive/project_dataset/dacon_v2/test_route\"\r\n",
        "\r\n",
        "# GPU 확인\r\n",
        "device_name = tf.test.gpu_device_name()\r\n",
        "if device_name != '/device:GPU:0':\r\n",
        "    raise SystemError('GPU device not found')\r\n",
        "print('Found GPU at: {}'.format(device_name))\r\n",
        "\r\n",
        "# global seed 고정\r\n",
        "SEED = 301\r\n",
        "\r\n",
        "def seed_everything(seed = 42):\r\n",
        "    random.seed(seed)\r\n",
        "    np.random.seed(seed)\r\n",
        "    os.environ[\"PYTHONHASHSEED\"] = str(seed)\r\n",
        "    tf.random.set_seed(seed)\r\n",
        "\r\n",
        "seed_everything(SEED)"
      ],
      "execution_count": null,
      "outputs": [
        {
          "output_type": "stream",
          "text": [
            "Collecting tensorflow_addons\n",
            "\u001b[?25l  Downloading https://files.pythonhosted.org/packages/74/e3/56d2fe76f0bb7c88ed9b2a6a557e25e83e252aec08f13de34369cd850a0b/tensorflow_addons-0.12.1-cp37-cp37m-manylinux2010_x86_64.whl (703kB)\n",
            "\u001b[K     |████████████████████████████████| 706kB 5.7MB/s \n",
            "\u001b[?25hRequirement already satisfied: typeguard>=2.7 in /usr/local/lib/python3.7/dist-packages (from tensorflow_addons) (2.7.1)\n",
            "Installing collected packages: tensorflow-addons\n",
            "Successfully installed tensorflow-addons-0.12.1\n",
            "Found GPU at: /device:GPU:0\n"
          ],
          "name": "stdout"
        }
      ]
    },
    {
      "cell_type": "markdown",
      "metadata": {
        "id": "wCWtRDrPs6V6"
      },
      "source": [
        "# Data Preparing"
      ]
    },
    {
      "cell_type": "code",
      "metadata": {
        "colab": {
          "base_uri": "https://localhost:8080/"
        },
        "id": "FwU5MUsyr4bU",
        "outputId": "ac882f8c-d229-44b3-c3ae-c5142e6f97f8"
      },
      "source": [
        "test_submit = pd.read_csv('sample_submission.csv')\r\n",
        "test_df = test_submit.copy()\r\n",
        "test_df['index'] = test_submit['index'].apply(lambda x: str(\"{:0>5d}\".format(x))+'.png')\r\n",
        "\r\n",
        "batch_size = 250\r\n",
        "\r\n",
        "\r\n",
        "test_gen = ImageDataGenerator(rescale=1./255.,\r\n",
        "                              rotation_range = 10,\r\n",
        "                              width_shift_range = 0.1,\r\n",
        "                              height_shift_range = 0.1,\r\n",
        "                              horizontal_flip = True,\r\n",
        "                              vertical_flip = True,\r\n",
        "                              fill_mode = \"nearest\")\r\n",
        "\r\n",
        "test_gen = test_gen.flow_from_dataframe(dataframe = test_df,        \r\n",
        "                                        directory='./test_route/test_dirty_mnist_2nd',      \r\n",
        "                                        x_col='index',                             \r\n",
        "                                        batch_size = batch_size,               \r\n",
        "                                        shuffle = False,\r\n",
        "                                        color_mode = \"rgb\",           \r\n",
        "                                        class_mode=None,\r\n",
        "                                        target_size=(256, 256))"
      ],
      "execution_count": null,
      "outputs": [
        {
          "output_type": "stream",
          "text": [
            "Found 5000 validated image filenames.\n"
          ],
          "name": "stdout"
        }
      ]
    },
    {
      "cell_type": "markdown",
      "metadata": {
        "id": "EoairA5Sr3hf"
      },
      "source": [
        "# TTA"
      ]
    },
    {
      "cell_type": "code",
      "metadata": {
        "id": "YoxUnyUntY4e"
      },
      "source": [
        "batch_size = 32\r\n",
        "tta_steps = 30\r\n",
        "predictions = []\r\n",
        "columns = list(test_df.columns[1:])\r\n",
        "filename = \"incepRes_TTA.csv\"\r\n",
        "\r\n",
        "for i in range(tta_steps):\r\n",
        "    print(\"iter {}\".format(i))\r\n",
        "    preds = model.predict_generator(generator = test_gen, steps = 5000 // batch_size, verbose = 1)\r\n",
        "    predictions.append(preds)\r\n",
        "\r\n",
        "# 평균을 통한 final prediction\r\n",
        "pred = np.mean(predictions, axis=0)\r\n",
        "pred_sub = pred.copy()\r\n",
        "\r\n",
        "# get label\r\n",
        "pred_sub = pred_sub.round()\r\n",
        "\r\n",
        "# create DF\r\n",
        "res = pd.DataFrame(pred_sub, columns = columns )\r\n",
        "int_rest = res.astype(int)\r\n",
        "submit = pd.concat([test_submit.iloc[:,0],int_rest], axis = 1)\r\n",
        "\r\n",
        "submit.to_csv(filename, index = False)"
      ],
      "execution_count": null,
      "outputs": []
    },
    {
      "cell_type": "markdown",
      "metadata": {
        "id": "iJD1b4tgrxuA"
      },
      "source": [
        "# MC Dropout"
      ]
    },
    {
      "cell_type": "code",
      "metadata": {
        "id": "zWmcSQdTrH9Y"
      },
      "source": [
        "class MCDropout(keras.layers.Dropout):\r\n",
        "    def call(self, inputs):\r\n",
        "        return super().call(inputs, training=True)\r\n",
        "\r\n",
        "mc_model = keras.models.Sequential([\r\n",
        "    MCDropout(layer.rate) if isinstance(layer, keras.layers.Dropout) else layer\r\n",
        "    for layer in model.layers\r\n",
        "])\r\n",
        "\r\n",
        "optimizer = keras.optimizers.SGD(lr=0.01, momentum=0.9, nesterov=True)\r\n",
        "mc_model.compile(loss=\"sparse_categorical_crossentropy\", optimizer=optimizer, metrics=[\"accuracy\"])\r\n",
        "mc_model.set_weights(model.get_weights())\r\n",
        "\r\n",
        "np.round(np.mean([mc_model.predict(X_test_scaled[:1]) for sample in range(100)], axis=0), 2)"
      ],
      "execution_count": null,
      "outputs": []
    },
    {
      "cell_type": "markdown",
      "metadata": {
        "id": "5GRqik4ct0aj"
      },
      "source": [
        "# TTA + MC Dropout"
      ]
    },
    {
      "cell_type": "code",
      "metadata": {
        "colab": {
          "base_uri": "https://localhost:8080/",
          "height": 774
        },
        "id": "Tk8qxCQluX5d",
        "outputId": "aa0591db-fbbd-48b4-fa1a-2d7245bf397a"
      },
      "source": [
        "seed_everything(SEED)\r\n",
        "\r\n",
        "# load_model\r\n",
        "model = keras.models.load_model(\"./model/effi_0301.h5\")\r\n",
        "\r\n",
        "# replace normal DO -> MC DO that forced to have training status\r\n",
        "class MCDropout(keras.layers.Dropout):\r\n",
        "    def call(self, inputs):\r\n",
        "        return super().call(inputs, training=True)\r\n",
        "\r\n",
        "mc_model = keras.models.Sequential([\r\n",
        "    MCDropout(layer.rate) if isinstance(layer, keras.layers.Dropout) else layer\r\n",
        "    for layer in model.layers\r\n",
        "])\r\n",
        "\r\n",
        "\r\n",
        "# LR schedule\r\n",
        "n_epochs = 60\r\n",
        "first_decay_steps = ((45000 // batch_size) * n_epochs) // 5\r\n",
        "initial_learning_rate = 0.003\r\n",
        "\r\n",
        "lr_decayed_fn = (\r\n",
        "  tf.keras.experimental.CosineDecayRestarts(\r\n",
        "      initial_learning_rate,\r\n",
        "      first_decay_steps,\r\n",
        "      t_mul=2.0,\r\n",
        "      m_mul=0.95))\r\n",
        "\r\n",
        "\r\n",
        "# optimizer\r\n",
        "radam = tfa.optimizers.RectifiedAdam(learning_rate = lr_decayed_fn,\r\n",
        "                                     weight_decay = 0.0001,\r\n",
        "                                     warmup_proportion = 0,\r\n",
        "                                     min_lr = 1e-6)\r\n",
        "ranger = tfa.optimizers.Lookahead(radam, sync_period=6, slow_step_size=0.5)\r\n",
        "\r\n",
        "\r\n",
        "# compile\r\n",
        "BAcc = keras.metrics.BinaryAccuracy(name='binary_accuracy')\r\n",
        "mc_model.compile(optimizer = ranger, loss = \"binary_crossentropy\", metrics = [BAcc])\r\n",
        "mc_model.set_weights(model.get_weights())\r\n",
        "\r\n",
        "\r\n",
        "# Setting for TTA and MCDO\r\n",
        "batch_size = 250\r\n",
        "tta_steps = 5\r\n",
        "mc_steps = 5\r\n",
        "predictions = []\r\n",
        "columns = list(test_df.columns[1:])\r\n",
        "filename = \"efficientB0_0301.csv\"\r\n",
        "\r\n",
        "\r\n",
        "# double loop \r\n",
        "for i in range(tta_steps):\r\n",
        "    print(\"*********** augment iter {} ***********\".format(i))\r\n",
        "    mc_pred = [mc_model.predict_generator(generator = test_gen, \r\n",
        "                                          steps = 5000 // 250,\r\n",
        "                                          verbose = 1) for sample in range(mc_steps)]\r\n",
        "    mc_pred_means = np.mean(mc_pred, axis = 0)\r\n",
        "    predictions.append(mc_pred_means)\r\n",
        "\r\n",
        "\r\n",
        "# final prediction\r\n",
        "pred = np.mean(predictions, axis=0)\r\n",
        "pred_sub = pred.copy()\r\n",
        "\r\n",
        "# get label\r\n",
        "pred_sub = pred_sub.round()\r\n",
        "\r\n",
        "# create DF\r\n",
        "res = pd.DataFrame(pred_sub, columns = columns )\r\n",
        "int_rest = res.astype(int)\r\n",
        "submit = pd.concat([test_submit.iloc[:,0],int_rest], axis = 1)\r\n",
        "submit.to_csv(filename, index = False)"
      ],
      "execution_count": null,
      "outputs": [
        {
          "output_type": "stream",
          "text": [
            "*********** augment iter 0 ***********\n"
          ],
          "name": "stdout"
        },
        {
          "output_type": "stream",
          "text": [
            "/usr/local/lib/python3.7/dist-packages/tensorflow/python/keras/engine/training.py:1905: UserWarning: `Model.predict_generator` is deprecated and will be removed in a future version. Please use `Model.predict`, which supports generators.\n",
            "  warnings.warn('`Model.predict_generator` is deprecated and '\n"
          ],
          "name": "stderr"
        },
        {
          "output_type": "stream",
          "text": [
            "20/20 [==============================] - 595s 31s/step\n",
            "20/20 [==============================] - 76s 4s/step\n",
            "20/20 [==============================] - 75s 4s/step\n",
            "20/20 [==============================] - 74s 4s/step\n",
            "20/20 [==============================] - 74s 4s/step\n",
            "20/20 [==============================] - 75s 4s/step\n",
            "20/20 [==============================] - 75s 4s/step\n",
            "20/20 [==============================] - 76s 4s/step\n",
            "20/20 [==============================] - 76s 4s/step\n",
            "20/20 [==============================] - 76s 4s/step\n",
            "*********** augment iter 1 ***********\n",
            "20/20 [==============================] - 76s 4s/step\n",
            "20/20 [==============================] - 75s 4s/step\n",
            "20/20 [==============================] - 77s 4s/step\n",
            "20/20 [==============================] - 78s 4s/step\n",
            " 1/20 [>.............................] - ETA: 1:15"
          ],
          "name": "stdout"
        },
        {
          "output_type": "error",
          "ename": "KeyboardInterrupt",
          "evalue": "ignored",
          "traceback": [
            "\u001b[0;31m---------------------------------------------------------------------------\u001b[0m",
            "\u001b[0;31mKeyboardInterrupt\u001b[0m                         Traceback (most recent call last)",
            "\u001b[0;32m<ipython-input-17-9b52b3475768>\u001b[0m in \u001b[0;36m<module>\u001b[0;34m()\u001b[0m\n\u001b[1;32m     56\u001b[0m     mc_pred = [mc_model.predict_generator(generator = test_gen, \n\u001b[1;32m     57\u001b[0m                                           \u001b[0msteps\u001b[0m \u001b[0;34m=\u001b[0m \u001b[0;36m5000\u001b[0m \u001b[0;34m//\u001b[0m \u001b[0;36m250\u001b[0m\u001b[0;34m,\u001b[0m\u001b[0;34m\u001b[0m\u001b[0;34m\u001b[0m\u001b[0m\n\u001b[0;32m---> 58\u001b[0;31m                                           verbose = 1) for sample in range(mc_steps)]\n\u001b[0m\u001b[1;32m     59\u001b[0m     \u001b[0mmc_pred_means\u001b[0m \u001b[0;34m=\u001b[0m \u001b[0mnp\u001b[0m\u001b[0;34m.\u001b[0m\u001b[0mmean\u001b[0m\u001b[0;34m(\u001b[0m\u001b[0mmc_pred\u001b[0m\u001b[0;34m,\u001b[0m \u001b[0maxis\u001b[0m \u001b[0;34m=\u001b[0m \u001b[0;36m0\u001b[0m\u001b[0;34m)\u001b[0m\u001b[0;34m\u001b[0m\u001b[0;34m\u001b[0m\u001b[0m\n\u001b[1;32m     60\u001b[0m     \u001b[0mpredictions\u001b[0m\u001b[0;34m.\u001b[0m\u001b[0mappend\u001b[0m\u001b[0;34m(\u001b[0m\u001b[0mmc_pred_means\u001b[0m\u001b[0;34m)\u001b[0m\u001b[0;34m\u001b[0m\u001b[0;34m\u001b[0m\u001b[0m\n",
            "\u001b[0;32m<ipython-input-17-9b52b3475768>\u001b[0m in \u001b[0;36m<listcomp>\u001b[0;34m(.0)\u001b[0m\n\u001b[1;32m     56\u001b[0m     mc_pred = [mc_model.predict_generator(generator = test_gen, \n\u001b[1;32m     57\u001b[0m                                           \u001b[0msteps\u001b[0m \u001b[0;34m=\u001b[0m \u001b[0;36m5000\u001b[0m \u001b[0;34m//\u001b[0m \u001b[0;36m250\u001b[0m\u001b[0;34m,\u001b[0m\u001b[0;34m\u001b[0m\u001b[0;34m\u001b[0m\u001b[0m\n\u001b[0;32m---> 58\u001b[0;31m                                           verbose = 1) for sample in range(mc_steps)]\n\u001b[0m\u001b[1;32m     59\u001b[0m     \u001b[0mmc_pred_means\u001b[0m \u001b[0;34m=\u001b[0m \u001b[0mnp\u001b[0m\u001b[0;34m.\u001b[0m\u001b[0mmean\u001b[0m\u001b[0;34m(\u001b[0m\u001b[0mmc_pred\u001b[0m\u001b[0;34m,\u001b[0m \u001b[0maxis\u001b[0m \u001b[0;34m=\u001b[0m \u001b[0;36m0\u001b[0m\u001b[0;34m)\u001b[0m\u001b[0;34m\u001b[0m\u001b[0;34m\u001b[0m\u001b[0m\n\u001b[1;32m     60\u001b[0m     \u001b[0mpredictions\u001b[0m\u001b[0;34m.\u001b[0m\u001b[0mappend\u001b[0m\u001b[0;34m(\u001b[0m\u001b[0mmc_pred_means\u001b[0m\u001b[0;34m)\u001b[0m\u001b[0;34m\u001b[0m\u001b[0;34m\u001b[0m\u001b[0m\n",
            "\u001b[0;32m/usr/local/lib/python3.7/dist-packages/tensorflow/python/keras/engine/training.py\u001b[0m in \u001b[0;36mpredict_generator\u001b[0;34m(self, generator, steps, callbacks, max_queue_size, workers, use_multiprocessing, verbose)\u001b[0m\n\u001b[1;32m   1913\u001b[0m         \u001b[0muse_multiprocessing\u001b[0m\u001b[0;34m=\u001b[0m\u001b[0muse_multiprocessing\u001b[0m\u001b[0;34m,\u001b[0m\u001b[0;34m\u001b[0m\u001b[0;34m\u001b[0m\u001b[0m\n\u001b[1;32m   1914\u001b[0m         \u001b[0mverbose\u001b[0m\u001b[0;34m=\u001b[0m\u001b[0mverbose\u001b[0m\u001b[0;34m,\u001b[0m\u001b[0;34m\u001b[0m\u001b[0;34m\u001b[0m\u001b[0m\n\u001b[0;32m-> 1915\u001b[0;31m         callbacks=callbacks)\n\u001b[0m\u001b[1;32m   1916\u001b[0m \u001b[0;34m\u001b[0m\u001b[0m\n\u001b[1;32m   1917\u001b[0m   \u001b[0;31m######################################################################\u001b[0m\u001b[0;34m\u001b[0m\u001b[0;34m\u001b[0m\u001b[0;34m\u001b[0m\u001b[0m\n",
            "\u001b[0;32m/usr/local/lib/python3.7/dist-packages/tensorflow/python/keras/engine/training.py\u001b[0m in \u001b[0;36mpredict\u001b[0;34m(self, x, batch_size, verbose, steps, callbacks, max_queue_size, workers, use_multiprocessing)\u001b[0m\n\u001b[1;32m   1627\u001b[0m           \u001b[0;32mfor\u001b[0m \u001b[0mstep\u001b[0m \u001b[0;32min\u001b[0m \u001b[0mdata_handler\u001b[0m\u001b[0;34m.\u001b[0m\u001b[0msteps\u001b[0m\u001b[0;34m(\u001b[0m\u001b[0;34m)\u001b[0m\u001b[0;34m:\u001b[0m\u001b[0;34m\u001b[0m\u001b[0;34m\u001b[0m\u001b[0m\n\u001b[1;32m   1628\u001b[0m             \u001b[0mcallbacks\u001b[0m\u001b[0;34m.\u001b[0m\u001b[0mon_predict_batch_begin\u001b[0m\u001b[0;34m(\u001b[0m\u001b[0mstep\u001b[0m\u001b[0;34m)\u001b[0m\u001b[0;34m\u001b[0m\u001b[0;34m\u001b[0m\u001b[0m\n\u001b[0;32m-> 1629\u001b[0;31m             \u001b[0mtmp_batch_outputs\u001b[0m \u001b[0;34m=\u001b[0m \u001b[0mself\u001b[0m\u001b[0;34m.\u001b[0m\u001b[0mpredict_function\u001b[0m\u001b[0;34m(\u001b[0m\u001b[0miterator\u001b[0m\u001b[0;34m)\u001b[0m\u001b[0;34m\u001b[0m\u001b[0;34m\u001b[0m\u001b[0m\n\u001b[0m\u001b[1;32m   1630\u001b[0m             \u001b[0;32mif\u001b[0m \u001b[0mdata_handler\u001b[0m\u001b[0;34m.\u001b[0m\u001b[0mshould_sync\u001b[0m\u001b[0;34m:\u001b[0m\u001b[0;34m\u001b[0m\u001b[0;34m\u001b[0m\u001b[0m\n\u001b[1;32m   1631\u001b[0m               \u001b[0mcontext\u001b[0m\u001b[0;34m.\u001b[0m\u001b[0masync_wait\u001b[0m\u001b[0;34m(\u001b[0m\u001b[0;34m)\u001b[0m\u001b[0;34m\u001b[0m\u001b[0;34m\u001b[0m\u001b[0m\n",
            "\u001b[0;32m/usr/local/lib/python3.7/dist-packages/tensorflow/python/eager/def_function.py\u001b[0m in \u001b[0;36m__call__\u001b[0;34m(self, *args, **kwds)\u001b[0m\n\u001b[1;32m    826\u001b[0m     \u001b[0mtracing_count\u001b[0m \u001b[0;34m=\u001b[0m \u001b[0mself\u001b[0m\u001b[0;34m.\u001b[0m\u001b[0mexperimental_get_tracing_count\u001b[0m\u001b[0;34m(\u001b[0m\u001b[0;34m)\u001b[0m\u001b[0;34m\u001b[0m\u001b[0;34m\u001b[0m\u001b[0m\n\u001b[1;32m    827\u001b[0m     \u001b[0;32mwith\u001b[0m \u001b[0mtrace\u001b[0m\u001b[0;34m.\u001b[0m\u001b[0mTrace\u001b[0m\u001b[0;34m(\u001b[0m\u001b[0mself\u001b[0m\u001b[0;34m.\u001b[0m\u001b[0m_name\u001b[0m\u001b[0;34m)\u001b[0m \u001b[0;32mas\u001b[0m \u001b[0mtm\u001b[0m\u001b[0;34m:\u001b[0m\u001b[0;34m\u001b[0m\u001b[0;34m\u001b[0m\u001b[0m\n\u001b[0;32m--> 828\u001b[0;31m       \u001b[0mresult\u001b[0m \u001b[0;34m=\u001b[0m \u001b[0mself\u001b[0m\u001b[0;34m.\u001b[0m\u001b[0m_call\u001b[0m\u001b[0;34m(\u001b[0m\u001b[0;34m*\u001b[0m\u001b[0margs\u001b[0m\u001b[0;34m,\u001b[0m \u001b[0;34m**\u001b[0m\u001b[0mkwds\u001b[0m\u001b[0;34m)\u001b[0m\u001b[0;34m\u001b[0m\u001b[0;34m\u001b[0m\u001b[0m\n\u001b[0m\u001b[1;32m    829\u001b[0m       \u001b[0mcompiler\u001b[0m \u001b[0;34m=\u001b[0m \u001b[0;34m\"xla\"\u001b[0m \u001b[0;32mif\u001b[0m \u001b[0mself\u001b[0m\u001b[0;34m.\u001b[0m\u001b[0m_experimental_compile\u001b[0m \u001b[0;32melse\u001b[0m \u001b[0;34m\"nonXla\"\u001b[0m\u001b[0;34m\u001b[0m\u001b[0;34m\u001b[0m\u001b[0m\n\u001b[1;32m    830\u001b[0m       \u001b[0mnew_tracing_count\u001b[0m \u001b[0;34m=\u001b[0m \u001b[0mself\u001b[0m\u001b[0;34m.\u001b[0m\u001b[0mexperimental_get_tracing_count\u001b[0m\u001b[0;34m(\u001b[0m\u001b[0;34m)\u001b[0m\u001b[0;34m\u001b[0m\u001b[0;34m\u001b[0m\u001b[0m\n",
            "\u001b[0;32m/usr/local/lib/python3.7/dist-packages/tensorflow/python/eager/def_function.py\u001b[0m in \u001b[0;36m_call\u001b[0;34m(self, *args, **kwds)\u001b[0m\n\u001b[1;32m    860\u001b[0m       \u001b[0;31m# In this case we have not created variables on the first call. So we can\u001b[0m\u001b[0;34m\u001b[0m\u001b[0;34m\u001b[0m\u001b[0;34m\u001b[0m\u001b[0m\n\u001b[1;32m    861\u001b[0m       \u001b[0;31m# run the first trace but we should fail if variables are created.\u001b[0m\u001b[0;34m\u001b[0m\u001b[0;34m\u001b[0m\u001b[0;34m\u001b[0m\u001b[0m\n\u001b[0;32m--> 862\u001b[0;31m       \u001b[0mresults\u001b[0m \u001b[0;34m=\u001b[0m \u001b[0mself\u001b[0m\u001b[0;34m.\u001b[0m\u001b[0m_stateful_fn\u001b[0m\u001b[0;34m(\u001b[0m\u001b[0;34m*\u001b[0m\u001b[0margs\u001b[0m\u001b[0;34m,\u001b[0m \u001b[0;34m**\u001b[0m\u001b[0mkwds\u001b[0m\u001b[0;34m)\u001b[0m\u001b[0;34m\u001b[0m\u001b[0;34m\u001b[0m\u001b[0m\n\u001b[0m\u001b[1;32m    863\u001b[0m       \u001b[0;32mif\u001b[0m \u001b[0mself\u001b[0m\u001b[0;34m.\u001b[0m\u001b[0m_created_variables\u001b[0m\u001b[0;34m:\u001b[0m\u001b[0;34m\u001b[0m\u001b[0;34m\u001b[0m\u001b[0m\n\u001b[1;32m    864\u001b[0m         raise ValueError(\"Creating variables on a non-first call to a function\"\n",
            "\u001b[0;32m/usr/local/lib/python3.7/dist-packages/tensorflow/python/eager/function.py\u001b[0m in \u001b[0;36m__call__\u001b[0;34m(self, *args, **kwargs)\u001b[0m\n\u001b[1;32m   2941\u001b[0m        filtered_flat_args) = self._maybe_define_function(args, kwargs)\n\u001b[1;32m   2942\u001b[0m     return graph_function._call_flat(\n\u001b[0;32m-> 2943\u001b[0;31m         filtered_flat_args, captured_inputs=graph_function.captured_inputs)  # pylint: disable=protected-access\n\u001b[0m\u001b[1;32m   2944\u001b[0m \u001b[0;34m\u001b[0m\u001b[0m\n\u001b[1;32m   2945\u001b[0m   \u001b[0;34m@\u001b[0m\u001b[0mproperty\u001b[0m\u001b[0;34m\u001b[0m\u001b[0;34m\u001b[0m\u001b[0m\n",
            "\u001b[0;32m/usr/local/lib/python3.7/dist-packages/tensorflow/python/eager/function.py\u001b[0m in \u001b[0;36m_call_flat\u001b[0;34m(self, args, captured_inputs, cancellation_manager)\u001b[0m\n\u001b[1;32m   1917\u001b[0m       \u001b[0;31m# No tape is watching; skip to running the function.\u001b[0m\u001b[0;34m\u001b[0m\u001b[0;34m\u001b[0m\u001b[0;34m\u001b[0m\u001b[0m\n\u001b[1;32m   1918\u001b[0m       return self._build_call_outputs(self._inference_function.call(\n\u001b[0;32m-> 1919\u001b[0;31m           ctx, args, cancellation_manager=cancellation_manager))\n\u001b[0m\u001b[1;32m   1920\u001b[0m     forward_backward = self._select_forward_and_backward_functions(\n\u001b[1;32m   1921\u001b[0m         \u001b[0margs\u001b[0m\u001b[0;34m,\u001b[0m\u001b[0;34m\u001b[0m\u001b[0;34m\u001b[0m\u001b[0m\n",
            "\u001b[0;32m/usr/local/lib/python3.7/dist-packages/tensorflow/python/eager/function.py\u001b[0m in \u001b[0;36mcall\u001b[0;34m(self, ctx, args, cancellation_manager)\u001b[0m\n\u001b[1;32m    558\u001b[0m               \u001b[0minputs\u001b[0m\u001b[0;34m=\u001b[0m\u001b[0margs\u001b[0m\u001b[0;34m,\u001b[0m\u001b[0;34m\u001b[0m\u001b[0;34m\u001b[0m\u001b[0m\n\u001b[1;32m    559\u001b[0m               \u001b[0mattrs\u001b[0m\u001b[0;34m=\u001b[0m\u001b[0mattrs\u001b[0m\u001b[0;34m,\u001b[0m\u001b[0;34m\u001b[0m\u001b[0;34m\u001b[0m\u001b[0m\n\u001b[0;32m--> 560\u001b[0;31m               ctx=ctx)\n\u001b[0m\u001b[1;32m    561\u001b[0m         \u001b[0;32melse\u001b[0m\u001b[0;34m:\u001b[0m\u001b[0;34m\u001b[0m\u001b[0;34m\u001b[0m\u001b[0m\n\u001b[1;32m    562\u001b[0m           outputs = execute.execute_with_cancellation(\n",
            "\u001b[0;32m/usr/local/lib/python3.7/dist-packages/tensorflow/python/eager/execute.py\u001b[0m in \u001b[0;36mquick_execute\u001b[0;34m(op_name, num_outputs, inputs, attrs, ctx, name)\u001b[0m\n\u001b[1;32m     58\u001b[0m     \u001b[0mctx\u001b[0m\u001b[0;34m.\u001b[0m\u001b[0mensure_initialized\u001b[0m\u001b[0;34m(\u001b[0m\u001b[0;34m)\u001b[0m\u001b[0;34m\u001b[0m\u001b[0;34m\u001b[0m\u001b[0m\n\u001b[1;32m     59\u001b[0m     tensors = pywrap_tfe.TFE_Py_Execute(ctx._handle, device_name, op_name,\n\u001b[0;32m---> 60\u001b[0;31m                                         inputs, attrs, num_outputs)\n\u001b[0m\u001b[1;32m     61\u001b[0m   \u001b[0;32mexcept\u001b[0m \u001b[0mcore\u001b[0m\u001b[0;34m.\u001b[0m\u001b[0m_NotOkStatusException\u001b[0m \u001b[0;32mas\u001b[0m \u001b[0me\u001b[0m\u001b[0;34m:\u001b[0m\u001b[0;34m\u001b[0m\u001b[0;34m\u001b[0m\u001b[0m\n\u001b[1;32m     62\u001b[0m     \u001b[0;32mif\u001b[0m \u001b[0mname\u001b[0m \u001b[0;32mis\u001b[0m \u001b[0;32mnot\u001b[0m \u001b[0;32mNone\u001b[0m\u001b[0;34m:\u001b[0m\u001b[0;34m\u001b[0m\u001b[0;34m\u001b[0m\u001b[0m\n",
            "\u001b[0;31mKeyboardInterrupt\u001b[0m: "
          ]
        }
      ]
    },
    {
      "cell_type": "code",
      "metadata": {
        "id": "rDULWWVz_q1M"
      },
      "source": [
        "# final prediction\r\n",
        "pred = np.mean(predictions, axis=0)\r\n",
        "pred_sub = pred.copy()\r\n",
        "\r\n",
        "# get label\r\n",
        "pred_sub = pred_sub.round()\r\n",
        "\r\n",
        "# create DF\r\n",
        "res = pd.DataFrame(pred_sub, columns = columns )\r\n",
        "int_rest = res.astype(int)\r\n",
        "submit = pd.concat([test_submit.iloc[:,0],int_rest], axis = 1)\r\n",
        "submit.to_csv(filename, index = False)"
      ],
      "execution_count": null,
      "outputs": []
    }
  ]
}